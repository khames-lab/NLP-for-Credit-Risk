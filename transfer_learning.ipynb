{
  "nbformat": 4,
  "nbformat_minor": 0,
  "metadata": {
    "colab": {
      "name": "transfer_learning.ipynb",
      "provenance": [],
      "collapsed_sections": []
    },
    "kernelspec": {
      "display_name": "Python 3",
      "language": "python",
      "name": "python3"
    },
    "language_info": {
      "codemirror_mode": {
        "name": "ipython",
        "version": 3
      },
      "file_extension": ".py",
      "mimetype": "text/x-python",
      "name": "python",
      "nbconvert_exporter": "python",
      "pygments_lexer": "ipython3",
      "version": "3.8.3"
    },
    "accelerator": "GPU"
  },
  "cells": [
    {
      "cell_type": "markdown",
      "metadata": {
        "id": "8XBc1fKe0121"
      },
      "source": [
        "# **How to deal with limited datasets**\n"
      ]
    },
    {
      "cell_type": "code",
      "metadata": {
        "colab": {
          "base_uri": "https://localhost:8080/",
          "height": 1000
        },
        "id": "uyB4O91NQsgH",
        "outputId": "fabac250-e249-4886-f3fc-7e695773e6e1"
      },
      "source": [
        "!pip install metrics\n",
        "!pip install nlpaug\n",
        "!pip install textaugment"
      ],
      "execution_count": 3,
      "outputs": [
        {
          "output_type": "stream",
          "text": [
            "Collecting metrics\n",
            "  Downloading https://files.pythonhosted.org/packages/01/ae/3ab18f2f3449f2e7931112c991ade9684eeddf96cea03ea7f662c01f0658/metrics-0.3.3.tar.gz\n",
            "Collecting Pygments==2.2.0\n",
            "\u001b[?25l  Downloading https://files.pythonhosted.org/packages/02/ee/b6e02dc6529e82b75bb06823ff7d005b141037cb1416b10c6f00fc419dca/Pygments-2.2.0-py2.py3-none-any.whl (841kB)\n",
            "\u001b[K     |████████████████████████████████| 849kB 5.5MB/s \n",
            "\u001b[?25hCollecting pathspec==0.5.5\n",
            "  Downloading https://files.pythonhosted.org/packages/9f/fb/5a901a3b1eeebf83af6da74ecca69d7daf5189e450f0f4cccf9c19132651/pathspec-0.5.5.tar.gz\n",
            "Collecting pathlib2>=2.3.0\n",
            "  Downloading https://files.pythonhosted.org/packages/e9/45/9c82d3666af4ef9f221cbb954e1d77ddbb513faf552aea6df5f37f1a4859/pathlib2-2.3.5-py2.py3-none-any.whl\n",
            "Requirement already satisfied: six in /usr/local/lib/python3.7/dist-packages (from pathlib2>=2.3.0->metrics) (1.15.0)\n",
            "Building wheels for collected packages: metrics, pathspec\n",
            "  Building wheel for metrics (setup.py) ... \u001b[?25l\u001b[?25hdone\n",
            "  Created wheel for metrics: filename=metrics-0.3.3-py2.py3-none-any.whl size=17814 sha256=ef8a10538c25f7de1fe318c7b15d0585fb9b81d4d7aeefc7b37094543ddeecd8\n",
            "  Stored in directory: /root/.cache/pip/wheels/38/e8/55/c4c648451a33a60920318eba4c5735088dbf78dc20d4277db0\n",
            "  Building wheel for pathspec (setup.py) ... \u001b[?25l\u001b[?25hdone\n",
            "  Created wheel for pathspec: filename=pathspec-0.5.5-cp37-none-any.whl size=24228 sha256=9afd20cf6ee57f30977c2c71d2a047f044766da765f8c80baa5c00ae0f8fb82c\n",
            "  Stored in directory: /root/.cache/pip/wheels/d1/2e/6b/c67842adf3b13ea33ca3fe6a2a963622821ad647db724688e2\n",
            "Successfully built metrics pathspec\n",
            "\u001b[31mERROR: jupyterlab-pygments 0.1.2 has requirement pygments<3,>=2.4.1, but you'll have pygments 2.2.0 which is incompatible.\u001b[0m\n",
            "\u001b[31mERROR: datascience 0.10.6 has requirement folium==0.2.1, but you'll have folium 0.8.3 which is incompatible.\u001b[0m\n",
            "Installing collected packages: Pygments, pathspec, pathlib2, metrics\n",
            "  Found existing installation: Pygments 2.6.1\n",
            "    Uninstalling Pygments-2.6.1:\n",
            "      Successfully uninstalled Pygments-2.6.1\n",
            "Successfully installed Pygments-2.2.0 metrics-0.3.3 pathlib2-2.3.5 pathspec-0.5.5\n"
          ],
          "name": "stdout"
        },
        {
          "output_type": "display_data",
          "data": {
            "application/vnd.colab-display-data+json": {
              "pip_warning": {
                "packages": [
                  "pygments"
                ]
              }
            }
          },
          "metadata": {
            "tags": []
          }
        },
        {
          "output_type": "stream",
          "text": [
            "Collecting nlpaug==1.1.3\n",
            "\u001b[?25l  Downloading https://files.pythonhosted.org/packages/eb/f8/b11caecdd19aa2b1b2cb46c6cbbec692abd621aad884e653e459a8546add/nlpaug-1.1.3-py3-none-any.whl (394kB)\n",
            "\u001b[K     |████████████████████████████████| 399kB 4.4MB/s \n",
            "\u001b[?25hInstalling collected packages: nlpaug\n",
            "Successfully installed nlpaug-1.1.3\n",
            "Collecting textaugment\n",
            "  Downloading https://files.pythonhosted.org/packages/2c/63/9960414280dba3d9eba332502231d69fdc8ba664a4bd3d46842ba8cf0ef2/textaugment-1.3.4-py3-none-any.whl\n",
            "Requirement already satisfied: nltk in /usr/local/lib/python3.7/dist-packages (from textaugment) (3.2.5)\n",
            "Requirement already satisfied: textblob in /usr/local/lib/python3.7/dist-packages (from textaugment) (0.15.3)\n",
            "Requirement already satisfied: gensim in /usr/local/lib/python3.7/dist-packages (from textaugment) (3.6.0)\n",
            "Collecting googletrans\n",
            "  Downloading https://files.pythonhosted.org/packages/71/3a/3b19effdd4c03958b90f40fe01c93de6d5280e03843cc5adf6956bfc9512/googletrans-3.0.0.tar.gz\n",
            "Requirement already satisfied: numpy in /usr/local/lib/python3.7/dist-packages (from textaugment) (1.19.5)\n",
            "Requirement already satisfied: six in /usr/local/lib/python3.7/dist-packages (from nltk->textaugment) (1.15.0)\n",
            "Requirement already satisfied: smart-open>=1.2.1 in /usr/local/lib/python3.7/dist-packages (from gensim->textaugment) (5.0.0)\n",
            "Requirement already satisfied: scipy>=0.18.1 in /usr/local/lib/python3.7/dist-packages (from gensim->textaugment) (1.4.1)\n",
            "Collecting httpx==0.13.3\n",
            "\u001b[?25l  Downloading https://files.pythonhosted.org/packages/54/b4/698b284c6aed4d7c2b4fe3ba5df1fcf6093612423797e76fbb24890dd22f/httpx-0.13.3-py3-none-any.whl (55kB)\n",
            "\u001b[K     |████████████████████████████████| 61kB 3.2MB/s \n",
            "\u001b[?25hRequirement already satisfied: certifi in /usr/local/lib/python3.7/dist-packages (from httpx==0.13.3->googletrans->textaugment) (2020.12.5)\n",
            "Collecting rfc3986<2,>=1.3\n",
            "  Downloading https://files.pythonhosted.org/packages/c4/e5/63ca2c4edf4e00657584608bee1001302bbf8c5f569340b78304f2f446cb/rfc3986-1.5.0-py2.py3-none-any.whl\n",
            "Collecting httpcore==0.9.*\n",
            "\u001b[?25l  Downloading https://files.pythonhosted.org/packages/dd/d5/e4ff9318693ac6101a2095e580908b591838c6f33df8d3ee8dd953ba96a8/httpcore-0.9.1-py3-none-any.whl (42kB)\n",
            "\u001b[K     |████████████████████████████████| 51kB 6.7MB/s \n",
            "\u001b[?25hRequirement already satisfied: chardet==3.* in /usr/local/lib/python3.7/dist-packages (from httpx==0.13.3->googletrans->textaugment) (3.0.4)\n",
            "Collecting sniffio\n",
            "  Downloading https://files.pythonhosted.org/packages/52/b0/7b2e028b63d092804b6794595871f936aafa5e9322dcaaad50ebf67445b3/sniffio-1.2.0-py3-none-any.whl\n",
            "Requirement already satisfied: idna==2.* in /usr/local/lib/python3.7/dist-packages (from httpx==0.13.3->googletrans->textaugment) (2.10)\n",
            "Collecting hstspreload\n",
            "\u001b[?25l  Downloading https://files.pythonhosted.org/packages/dd/50/606213e12fb49c5eb667df0936223dcaf461f94e215ea60244b2b1e9b039/hstspreload-2020.12.22-py3-none-any.whl (994kB)\n",
            "\u001b[K     |████████████████████████████████| 1.0MB 8.3MB/s \n",
            "\u001b[?25hCollecting h11<0.10,>=0.8\n",
            "\u001b[?25l  Downloading https://files.pythonhosted.org/packages/5a/fd/3dad730b0f95e78aeeb742f96fa7bbecbdd56a58e405d3da440d5bfb90c6/h11-0.9.0-py2.py3-none-any.whl (53kB)\n",
            "\u001b[K     |████████████████████████████████| 61kB 8.0MB/s \n",
            "\u001b[?25hCollecting h2==3.*\n",
            "\u001b[?25l  Downloading https://files.pythonhosted.org/packages/25/de/da019bcc539eeab02f6d45836f23858ac467f584bfec7a526ef200242afe/h2-3.2.0-py2.py3-none-any.whl (65kB)\n",
            "\u001b[K     |████████████████████████████████| 71kB 8.3MB/s \n",
            "\u001b[?25hCollecting hpack<4,>=3.0\n",
            "  Downloading https://files.pythonhosted.org/packages/8a/cc/e53517f4a1e13f74776ca93271caef378dadec14d71c61c949d759d3db69/hpack-3.0.0-py2.py3-none-any.whl\n",
            "Collecting hyperframe<6,>=5.2.0\n",
            "  Downloading https://files.pythonhosted.org/packages/19/0c/bf88182bcb5dce3094e2f3e4fe20db28a9928cb7bd5b08024030e4b140db/hyperframe-5.2.0-py2.py3-none-any.whl\n",
            "Building wheels for collected packages: googletrans\n",
            "  Building wheel for googletrans (setup.py) ... \u001b[?25l\u001b[?25hdone\n",
            "  Created wheel for googletrans: filename=googletrans-3.0.0-cp37-none-any.whl size=15737 sha256=81fd6b5c9ef933f10ee5d404c4ad2ef0bf277adaa364d47e857c71c2b986934c\n",
            "  Stored in directory: /root/.cache/pip/wheels/28/1a/a7/eaf4d7a3417a0c65796c547cff4deb6d79c7d14c2abd29273e\n",
            "Successfully built googletrans\n",
            "Installing collected packages: rfc3986, h11, hpack, hyperframe, h2, sniffio, httpcore, hstspreload, httpx, googletrans, textaugment\n",
            "Successfully installed googletrans-3.0.0 h11-0.9.0 h2-3.2.0 hpack-3.0.0 hstspreload-2020.12.22 httpcore-0.9.1 httpx-0.13.3 hyperframe-5.2.0 rfc3986-1.5.0 sniffio-1.2.0 textaugment-1.3.4\n"
          ],
          "name": "stdout"
        }
      ]
    },
    {
      "cell_type": "code",
      "metadata": {
        "id": "IO7ZhJMj0x7j"
      },
      "source": [
        "import numpy as np \n",
        "import pandas as pd\n",
        "import nltk\n",
        "import re\n",
        "import seaborn as sns\n",
        "import random\n",
        "\n",
        "from nltk.corpus import stopwords, wordnet\n",
        "from nltk.stem import WordNetLemmatizer\n",
        "from nltk.tokenize import word_tokenize\n",
        "\n",
        "from sklearn.model_selection import train_test_split\n",
        "from sklearn.preprocessing import OneHotEncoder\n",
        "from sklearn.feature_extraction.text import TfidfVectorizer\n",
        "from sklearn.metrics import confusion_matrix\n",
        "from sklearn.metrics import plot_confusion_matrix\n",
        "from sklearn.manifold import TSNE\n",
        "\n",
        "from keras.utils import to_categorical\n",
        "from keras.layers import Dense, Conv1D, MaxPool1D, Flatten, Dropout\n",
        "from keras.models import Sequential\n",
        "\n",
        "from matplotlib import pyplot as plt\n",
        "from gensim.models.doc2vec import Doc2Vec, TaggedDocument\n",
        "from textaugment import Wordnet\n",
        "from textaugment import EDA\n",
        "import nlpaug.augmenter.word as naw\n",
        "import nlpaug.augmenter.char as nac\n",
        "import nlpaug.augmenter.sentence as nas\n",
        "\n",
        "from wordcloud import WordCloud"
      ],
      "execution_count": 3,
      "outputs": []
    },
    {
      "cell_type": "code",
      "metadata": {
        "id": "2pB3swsHTNuc",
        "colab": {
          "base_uri": "https://localhost:8080/",
          "height": 191
        },
        "outputId": "501b46fb-f3aa-4fc1-ab9e-323a7aef619a"
      },
      "source": [
        "#loading the data\n",
        "path = 'drive/MyDrive/'\n",
        "data = pd.read_csv(path+'all-data.csv', encoding='latin-1', names=['sentiment', 'text'])\n",
        "data.head()"
      ],
      "execution_count": 4,
      "outputs": [
        {
          "output_type": "execute_result",
          "data": {
            "text/html": [
              "<div>\n",
              "<style scoped>\n",
              "    .dataframe tbody tr th:only-of-type {\n",
              "        vertical-align: middle;\n",
              "    }\n",
              "\n",
              "    .dataframe tbody tr th {\n",
              "        vertical-align: top;\n",
              "    }\n",
              "\n",
              "    .dataframe thead th {\n",
              "        text-align: right;\n",
              "    }\n",
              "</style>\n",
              "<table border=\"1\" class=\"dataframe\">\n",
              "  <thead>\n",
              "    <tr style=\"text-align: right;\">\n",
              "      <th></th>\n",
              "      <th>sentiment</th>\n",
              "      <th>text</th>\n",
              "    </tr>\n",
              "  </thead>\n",
              "  <tbody>\n",
              "    <tr>\n",
              "      <th>0</th>\n",
              "      <td>neutral</td>\n",
              "      <td>According to Gran , the company has no plans t...</td>\n",
              "    </tr>\n",
              "    <tr>\n",
              "      <th>1</th>\n",
              "      <td>neutral</td>\n",
              "      <td>Technopolis plans to develop in stages an area...</td>\n",
              "    </tr>\n",
              "    <tr>\n",
              "      <th>2</th>\n",
              "      <td>negative</td>\n",
              "      <td>The international electronic industry company ...</td>\n",
              "    </tr>\n",
              "    <tr>\n",
              "      <th>3</th>\n",
              "      <td>positive</td>\n",
              "      <td>With the new production plant the company woul...</td>\n",
              "    </tr>\n",
              "    <tr>\n",
              "      <th>4</th>\n",
              "      <td>positive</td>\n",
              "      <td>According to the company 's updated strategy f...</td>\n",
              "    </tr>\n",
              "  </tbody>\n",
              "</table>\n",
              "</div>"
            ],
            "text/plain": [
              "  sentiment                                               text\n",
              "0   neutral  According to Gran , the company has no plans t...\n",
              "1   neutral  Technopolis plans to develop in stages an area...\n",
              "2  negative  The international electronic industry company ...\n",
              "3  positive  With the new production plant the company woul...\n",
              "4  positive  According to the company 's updated strategy f..."
            ]
          },
          "metadata": {
            "tags": []
          },
          "execution_count": 4
        }
      ]
    },
    {
      "cell_type": "code",
      "metadata": {
        "id": "5PcJgdIQbDEv"
      },
      "source": [
        "data.dropna(inplace=True)\n",
        "data.drop_duplicates(inplace=True)"
      ],
      "execution_count": 5,
      "outputs": []
    },
    {
      "cell_type": "code",
      "metadata": {
        "id": "BqjuBaJKTaau",
        "colab": {
          "base_uri": "https://localhost:8080/"
        },
        "outputId": "71067cce-2caf-4567-a0b9-2fdce03150d2"
      },
      "source": [
        "len(data)"
      ],
      "execution_count": 7,
      "outputs": [
        {
          "output_type": "execute_result",
          "data": {
            "text/plain": [
              "4840"
            ]
          },
          "metadata": {
            "tags": []
          },
          "execution_count": 7
        }
      ]
    },
    {
      "cell_type": "code",
      "metadata": {
        "id": "xEVdYowAWpJd",
        "colab": {
          "base_uri": "https://localhost:8080/"
        },
        "outputId": "1baba5b0-8f77-40b4-ce5f-e9a7bbc3600e"
      },
      "source": [
        "nltk.download('stopwords')\n",
        "nltk.download('punkt')\n",
        "nltk.download('averaged_perceptron_tagger')"
      ],
      "execution_count": 6,
      "outputs": [
        {
          "output_type": "stream",
          "text": [
            "[nltk_data] Downloading package stopwords to /root/nltk_data...\n",
            "[nltk_data]   Package stopwords is already up-to-date!\n",
            "[nltk_data] Downloading package punkt to /root/nltk_data...\n",
            "[nltk_data]   Package punkt is already up-to-date!\n",
            "[nltk_data] Downloading package averaged_perceptron_tagger to\n",
            "[nltk_data]     /root/nltk_data...\n",
            "[nltk_data]   Package averaged_perceptron_tagger is already up-to-\n",
            "[nltk_data]       date!\n"
          ],
          "name": "stdout"
        },
        {
          "output_type": "execute_result",
          "data": {
            "text/plain": [
              "True"
            ]
          },
          "metadata": {
            "tags": []
          },
          "execution_count": 6
        }
      ]
    },
    {
      "cell_type": "code",
      "metadata": {
        "id": "RhKO9Rp-V0FE"
      },
      "source": [
        "from nltk.corpus import stopwords\n",
        "stop_words = stopwords.words(\"english\")\n",
        "PONCTUATION = re.compile('[/(){}\\[\\]\\|@,;]')\n",
        "BAD_SYMBOLS = re.compile('[^0-9a-z #+_]')\n",
        "\n",
        "def text_prepare(text):\n",
        "    text =  text.lower()\n",
        "    text =  re.sub(PONCTUATION,\" \",text)\n",
        "    text =  re.sub(BAD_SYMBOLS,\"\",text)\n",
        "    text =  \" \".join([word for word in word_tokenize(text) if word not in stop_words])\n",
        "    text = text.strip()\n",
        "    return text"
      ],
      "execution_count": 7,
      "outputs": []
    },
    {
      "cell_type": "code",
      "metadata": {
        "id": "vsQ0biqaTg5D",
        "colab": {
          "base_uri": "https://localhost:8080/"
        },
        "outputId": "87eb7ae6-9afa-45f0-889c-96cf19b80693"
      },
      "source": [
        "texts = data['text']\n",
        "texts"
      ],
      "execution_count": 11,
      "outputs": [
        {
          "output_type": "execute_result",
          "data": {
            "text/plain": [
              "0       According to Gran , the company has no plans t...\n",
              "1       Technopolis plans to develop in stages an area...\n",
              "2       The international electronic industry company ...\n",
              "3       With the new production plant the company woul...\n",
              "4       According to the company 's updated strategy f...\n",
              "                              ...                        \n",
              "4841    LONDON MarketWatch -- Share prices ended lower...\n",
              "4842    Rinkuskiai 's beer sales fell by 6.5 per cent ...\n",
              "4843    Operating profit fell to EUR 35.4 mn from EUR ...\n",
              "4844    Net sales of the Paper segment decreased to EU...\n",
              "4845    Sales in Finland decreased by 10.5 % in Januar...\n",
              "Name: text, Length: 4840, dtype: object"
            ]
          },
          "metadata": {
            "tags": []
          },
          "execution_count": 11
        }
      ]
    },
    {
      "cell_type": "code",
      "metadata": {
        "id": "kHTDuciMXAft",
        "colab": {
          "base_uri": "https://localhost:8080/"
        },
        "outputId": "320487be-54c4-4cfd-887e-3885d5eeed80"
      },
      "source": [
        "data['text'] = data['text'].apply(text_prepare)\n",
        "texts = data['text']\n",
        "texts"
      ],
      "execution_count": 9,
      "outputs": [
        {
          "output_type": "execute_result",
          "data": {
            "text/plain": [
              "0       according gran company plans move production r...\n",
              "1       technopolis plans develop stages area less 100...\n",
              "2       international electronic industry company elco...\n",
              "3       new production plant company would increase ca...\n",
              "4       according company updated strategy years 20092...\n",
              "                              ...                        \n",
              "4841    london marketwatch share prices ended lower lo...\n",
              "4842    rinkuskiai beer sales fell 65 per cent 416 mil...\n",
              "4843    operating profit fell eur 354 mn eur 688 mn 20...\n",
              "4844    net sales paper segment decreased eur 2216 mn ...\n",
              "4845    sales finland decreased 105 january sales outs...\n",
              "Name: text, Length: 4840, dtype: object"
            ]
          },
          "metadata": {
            "tags": []
          },
          "execution_count": 9
        }
      ]
    },
    {
      "cell_type": "code",
      "metadata": {
        "id": "XHVzWDOyUCpD",
        "colab": {
          "base_uri": "https://localhost:8080/"
        },
        "outputId": "85f3bce0-c4cb-48a0-9d9c-c0da22e2f958"
      },
      "source": [
        "sentiment = data['sentiment']\n",
        "sentiment"
      ],
      "execution_count": 13,
      "outputs": [
        {
          "output_type": "execute_result",
          "data": {
            "text/plain": [
              "0        neutral\n",
              "1        neutral\n",
              "2       negative\n",
              "3       positive\n",
              "4       positive\n",
              "          ...   \n",
              "4841    negative\n",
              "4842     neutral\n",
              "4843    negative\n",
              "4844    negative\n",
              "4845    negative\n",
              "Name: sentiment, Length: 4840, dtype: object"
            ]
          },
          "metadata": {
            "tags": []
          },
          "execution_count": 13
        }
      ]
    },
    {
      "cell_type": "code",
      "metadata": {
        "id": "nj1bomDzTpWo",
        "colab": {
          "base_uri": "https://localhost:8080/",
          "height": 35
        },
        "outputId": "77944f38-25a5-4103-cab8-ede409a08f24"
      },
      "source": [
        "texts[0]"
      ],
      "execution_count": 14,
      "outputs": [
        {
          "output_type": "execute_result",
          "data": {
            "application/vnd.google.colaboratory.intrinsic+json": {
              "type": "string"
            },
            "text/plain": [
              "'according gran company plans move production russia although company growing'"
            ]
          },
          "metadata": {
            "tags": []
          },
          "execution_count": 14
        }
      ]
    },
    {
      "cell_type": "code",
      "metadata": {
        "id": "M-tqmA_tUIyS",
        "colab": {
          "base_uri": "https://localhost:8080/",
          "height": 35
        },
        "outputId": "cce065e1-16bb-4aa4-deee-1fefcb436695"
      },
      "source": [
        "sentiment[0]"
      ],
      "execution_count": 15,
      "outputs": [
        {
          "output_type": "execute_result",
          "data": {
            "application/vnd.google.colaboratory.intrinsic+json": {
              "type": "string"
            },
            "text/plain": [
              "'neutral'"
            ]
          },
          "metadata": {
            "tags": []
          },
          "execution_count": 15
        }
      ]
    },
    {
      "cell_type": "code",
      "metadata": {
        "id": "a2PPPv7TyZDl"
      },
      "source": [
        "sentiment_changer = {\"neutral\":0, \"negative\":1,\"positive\":2}\n",
        "data.sentiment = data.sentiment.map(sentiment_changer)"
      ],
      "execution_count": 10,
      "outputs": []
    },
    {
      "cell_type": "code",
      "metadata": {
        "id": "Mg6kBbfaXtwK"
      },
      "source": [
        "x_train,x_test,y_train,y_test = train_test_split(data.text,data.sentiment,test_size = 0.2 , random_state = 0)"
      ],
      "execution_count": 29,
      "outputs": []
    },
    {
      "cell_type": "code",
      "metadata": {
        "id": "7Z3MUW_EeeN3"
      },
      "source": [
        "def tokenize_features(X_train, X_test):\n",
        "    tfidf_vectorizer = TfidfVectorizer(ngram_range=(1,2), max_df=0.9, min_df=5, token_pattern= '(\\S+)' ) \n",
        "    tfidf_vectorizer = tfidf_vectorizer.fit(X_train)\n",
        "    X_train_tfidf = tfidf_vectorizer.transform(X_train)\n",
        "    X_test_tfidf  = tfidf_vectorizer.transform(X_test)\n",
        "    vocab = tfidf_vectorizer.vocabulary_\n",
        "    return X_train_tfidf.todense(),  X_test_tfidf.todense(), vocab"
      ],
      "execution_count": 20,
      "outputs": []
    },
    {
      "cell_type": "code",
      "metadata": {
        "id": "FDSntQIN0tm6"
      },
      "source": [
        "X_train_tfidf,  X_test_tfidf , vocab = tokenize_features(x_train,x_test)"
      ],
      "execution_count": 30,
      "outputs": []
    },
    {
      "cell_type": "markdown",
      "metadata": {
        "id": "xcKClplM1L-r"
      },
      "source": [
        "**1.Combining simple models**"
      ]
    },
    {
      "cell_type": "markdown",
      "metadata": {
        "id": "yCdqhrQD3hc2"
      },
      "source": [
        " In order to combine the models performances, we would compute weighted averages of the various predictions for the different classes. Therefore the final prediction would be the class with the highest weighted average."
      ]
    },
    {
      "cell_type": "code",
      "metadata": {
        "id": "jHHx0aO-sCfK"
      },
      "source": [
        "from xgboost import XGBClassifier\n",
        "from sklearn.ensemble import RandomForestClassifier\n",
        "from sklearn import model_selection\n",
        "from sklearn.linear_model import LogisticRegression\n",
        "from sklearn.tree import DecisionTreeClassifier\n",
        "from sklearn.neighbors import KNeighborsClassifier\n",
        "from sklearn.discriminant_analysis import LinearDiscriminantAnalysis\n",
        "from sklearn.naive_bayes import GaussianNB\n",
        "from sklearn.svm import SVC"
      ],
      "execution_count": 22,
      "outputs": []
    },
    {
      "cell_type": "code",
      "metadata": {
        "id": "rnlsoCs43jjt"
      },
      "source": [
        "# prepare models\n",
        "models = []\n",
        "#models.append(('LDA', LinearDiscriminantAnalysis()))\n",
        "models.append(('KNN', KNeighborsClassifier()))\n",
        "models.append(('CART', DecisionTreeClassifier()))\n",
        "models.append(('RF', RandomForestClassifier()))\n",
        "#models.append(('SVM', SVC(probability=True)))\n",
        "#models.append(('XGB', XGBClassifier()))"
      ],
      "execution_count": 23,
      "outputs": []
    },
    {
      "cell_type": "code",
      "metadata": {
        "colab": {
          "base_uri": "https://localhost:8080/"
        },
        "id": "D0jdpez2s8f6",
        "outputId": "4c368239-a0f5-45fd-bc4e-8165839ed536"
      },
      "source": [
        "seed = 5\n",
        "results = []\n",
        "names = []\n",
        "scoring = 'accuracy'\n",
        "for name, model in models:\n",
        "  print('fitting the',name,'model')\n",
        "  kfold = model_selection.KFold(n_splits=10, random_state=seed)\n",
        "  cv_results = model_selection.cross_val_score(model, X_train_tfidf, y_train, cv=kfold, scoring=scoring)\n",
        "  results.append(cv_results)\n",
        "  names.append(name)\n",
        "  msg = \"%s: %f (%f)\" % (name, cv_results.mean(), cv_results.std())\n",
        "  print(msg)"
      ],
      "execution_count": 31,
      "outputs": [
        {
          "output_type": "stream",
          "text": [
            "fitting the KNN model\n"
          ],
          "name": "stdout"
        },
        {
          "output_type": "stream",
          "text": [
            "/usr/local/lib/python3.7/dist-packages/sklearn/model_selection/_split.py:296: FutureWarning: Setting a random_state has no effect since shuffle is False. This will raise an error in 0.24. You should leave random_state to its default (None), or set shuffle=True.\n",
            "  FutureWarning\n"
          ],
          "name": "stderr"
        },
        {
          "output_type": "stream",
          "text": [
            "KNN: 0.637143 (0.024106)\n",
            "fitting the CART model\n"
          ],
          "name": "stdout"
        },
        {
          "output_type": "stream",
          "text": [
            "/usr/local/lib/python3.7/dist-packages/sklearn/model_selection/_split.py:296: FutureWarning: Setting a random_state has no effect since shuffle is False. This will raise an error in 0.24. You should leave random_state to its default (None), or set shuffle=True.\n",
            "  FutureWarning\n"
          ],
          "name": "stderr"
        },
        {
          "output_type": "stream",
          "text": [
            "CART: 0.652367 (0.019079)\n",
            "fitting the RF model\n"
          ],
          "name": "stdout"
        },
        {
          "output_type": "stream",
          "text": [
            "/usr/local/lib/python3.7/dist-packages/sklearn/model_selection/_split.py:296: FutureWarning: Setting a random_state has no effect since shuffle is False. This will raise an error in 0.24. You should leave random_state to its default (None), or set shuffle=True.\n",
            "  FutureWarning\n"
          ],
          "name": "stderr"
        },
        {
          "output_type": "stream",
          "text": [
            "RF: 0.737346 (0.013558)\n"
          ],
          "name": "stdout"
        }
      ]
    },
    {
      "cell_type": "code",
      "metadata": {
        "id": "OAqAggukvTWr",
        "colab": {
          "base_uri": "https://localhost:8080/",
          "height": 293
        },
        "outputId": "0aa50964-68ac-45dc-c0ce-78069256c399"
      },
      "source": [
        "fig = plt.figure()\n",
        "fig.suptitle('Algorithm Comparison')\n",
        "ax = fig.add_subplot(111)\n",
        "plt.boxplot(results)\n",
        "ax.set_xticklabels(names)\n",
        "plt.show()"
      ],
      "execution_count": 32,
      "outputs": [
        {
          "output_type": "display_data",
          "data": {
            "image/png": "[encoded data removed]",
            "text/plain": [
              "<Figure size 432x288 with 1 Axes>"
            ]
          },
          "metadata": {
            "tags": [],
            "needs_background": "light"
          }
        }
      ]
    },
    {
      "cell_type": "code",
      "metadata": {
        "id": "YDYfcPPj9mWn"
      },
      "source": [
        "preds0 = pd.DataFrame()\n",
        "preds1 = pd.DataFrame()\n",
        "preds2 = pd.DataFrame()\n",
        "\n",
        "for i, m in enumerate(models):\n",
        "    model = m[1]\n",
        "    model.fit(X_train_tfidf, y_train)\n",
        "    pred = model.predict_proba(X_test_tfidf)\n",
        "    preds0[i] = pred[:,0]\n",
        "    preds1[i] = pred[:,1]\n",
        "    preds2[i] = pred[:,2]"
      ],
      "execution_count": 33,
      "outputs": []
    },
    {
      "cell_type": "code",
      "metadata": {
        "id": "-S1EL38krjSW"
      },
      "source": [
        "weights = [0.5, 1,1]\n",
        "preds0['weighted_pred'] = (preds0 * weights).sum(axis=1) / sum(weights)\n",
        "preds1['weighted_pred'] = (preds1 * weights).sum(axis=1) / sum(weights)\n",
        "preds2['weighted_pred'] = (preds2 * weights).sum(axis=1) / sum(weights)"
      ],
      "execution_count": 34,
      "outputs": []
    },
    {
      "cell_type": "code",
      "metadata": {
        "id": "ysYdN61Uu3zN",
        "colab": {
          "base_uri": "https://localhost:8080/",
          "height": 191
        },
        "outputId": "4101b386-420c-4a38-d5fb-13618d1a4612"
      },
      "source": [
        "preds0.head()"
      ],
      "execution_count": 35,
      "outputs": [
        {
          "output_type": "execute_result",
          "data": {
            "text/html": [
              "<div>\n",
              "<style scoped>\n",
              "    .dataframe tbody tr th:only-of-type {\n",
              "        vertical-align: middle;\n",
              "    }\n",
              "\n",
              "    .dataframe tbody tr th {\n",
              "        vertical-align: top;\n",
              "    }\n",
              "\n",
              "    .dataframe thead th {\n",
              "        text-align: right;\n",
              "    }\n",
              "</style>\n",
              "<table border=\"1\" class=\"dataframe\">\n",
              "  <thead>\n",
              "    <tr style=\"text-align: right;\">\n",
              "      <th></th>\n",
              "      <th>0</th>\n",
              "      <th>1</th>\n",
              "      <th>2</th>\n",
              "      <th>weighted_pred</th>\n",
              "    </tr>\n",
              "  </thead>\n",
              "  <tbody>\n",
              "    <tr>\n",
              "      <th>0</th>\n",
              "      <td>1.0</td>\n",
              "      <td>0.0</td>\n",
              "      <td>0.735</td>\n",
              "      <td>0.494</td>\n",
              "    </tr>\n",
              "    <tr>\n",
              "      <th>1</th>\n",
              "      <td>0.8</td>\n",
              "      <td>1.0</td>\n",
              "      <td>0.950</td>\n",
              "      <td>0.940</td>\n",
              "    </tr>\n",
              "    <tr>\n",
              "      <th>2</th>\n",
              "      <td>1.0</td>\n",
              "      <td>1.0</td>\n",
              "      <td>0.410</td>\n",
              "      <td>0.764</td>\n",
              "    </tr>\n",
              "    <tr>\n",
              "      <th>3</th>\n",
              "      <td>1.0</td>\n",
              "      <td>1.0</td>\n",
              "      <td>0.830</td>\n",
              "      <td>0.932</td>\n",
              "    </tr>\n",
              "    <tr>\n",
              "      <th>4</th>\n",
              "      <td>1.0</td>\n",
              "      <td>0.0</td>\n",
              "      <td>0.820</td>\n",
              "      <td>0.528</td>\n",
              "    </tr>\n",
              "  </tbody>\n",
              "</table>\n",
              "</div>"
            ],
            "text/plain": [
              "     0    1      2  weighted_pred\n",
              "0  1.0  0.0  0.735          0.494\n",
              "1  0.8  1.0  0.950          0.940\n",
              "2  1.0  1.0  0.410          0.764\n",
              "3  1.0  1.0  0.830          0.932\n",
              "4  1.0  0.0  0.820          0.528"
            ]
          },
          "metadata": {
            "tags": []
          },
          "execution_count": 35
        }
      ]
    },
    {
      "cell_type": "code",
      "metadata": {
        "id": "20GYmnH8uvjK",
        "colab": {
          "base_uri": "https://localhost:8080/",
          "height": 191
        },
        "outputId": "5f877229-8747-4964-acdd-e682f313eea2"
      },
      "source": [
        "preds1.head()"
      ],
      "execution_count": 35,
      "outputs": [
        {
          "output_type": "execute_result",
          "data": {
            "text/html": [
              "<div>\n",
              "<style scoped>\n",
              "    .dataframe tbody tr th:only-of-type {\n",
              "        vertical-align: middle;\n",
              "    }\n",
              "\n",
              "    .dataframe tbody tr th {\n",
              "        vertical-align: top;\n",
              "    }\n",
              "\n",
              "    .dataframe thead th {\n",
              "        text-align: right;\n",
              "    }\n",
              "</style>\n",
              "<table border=\"1\" class=\"dataframe\">\n",
              "  <thead>\n",
              "    <tr style=\"text-align: right;\">\n",
              "      <th></th>\n",
              "      <th>0</th>\n",
              "      <th>1</th>\n",
              "      <th>2</th>\n",
              "      <th>weighted_pred</th>\n",
              "    </tr>\n",
              "  </thead>\n",
              "  <tbody>\n",
              "    <tr>\n",
              "      <th>0</th>\n",
              "      <td>0.0</td>\n",
              "      <td>0.0</td>\n",
              "      <td>0.01</td>\n",
              "      <td>0.004</td>\n",
              "    </tr>\n",
              "    <tr>\n",
              "      <th>1</th>\n",
              "      <td>0.2</td>\n",
              "      <td>0.0</td>\n",
              "      <td>0.02</td>\n",
              "      <td>0.048</td>\n",
              "    </tr>\n",
              "    <tr>\n",
              "      <th>2</th>\n",
              "      <td>0.0</td>\n",
              "      <td>0.0</td>\n",
              "      <td>0.49</td>\n",
              "      <td>0.196</td>\n",
              "    </tr>\n",
              "    <tr>\n",
              "      <th>3</th>\n",
              "      <td>0.0</td>\n",
              "      <td>0.0</td>\n",
              "      <td>0.00</td>\n",
              "      <td>0.000</td>\n",
              "    </tr>\n",
              "    <tr>\n",
              "      <th>4</th>\n",
              "      <td>0.0</td>\n",
              "      <td>1.0</td>\n",
              "      <td>0.12</td>\n",
              "      <td>0.448</td>\n",
              "    </tr>\n",
              "  </tbody>\n",
              "</table>\n",
              "</div>"
            ],
            "text/plain": [
              "     0    1     2  weighted_pred\n",
              "0  0.0  0.0  0.01          0.004\n",
              "1  0.2  0.0  0.02          0.048\n",
              "2  0.0  0.0  0.49          0.196\n",
              "3  0.0  0.0  0.00          0.000\n",
              "4  0.0  1.0  0.12          0.448"
            ]
          },
          "metadata": {
            "tags": []
          },
          "execution_count": 35
        }
      ]
    },
    {
      "cell_type": "code",
      "metadata": {
        "id": "Px45IyGXu0Ij",
        "colab": {
          "base_uri": "https://localhost:8080/",
          "height": 191
        },
        "outputId": "5baa6ccf-9c69-404b-be0a-1f9f62e3e44c"
      },
      "source": [
        "preds2.head()"
      ],
      "execution_count": 36,
      "outputs": [
        {
          "output_type": "execute_result",
          "data": {
            "text/html": [
              "<div>\n",
              "<style scoped>\n",
              "    .dataframe tbody tr th:only-of-type {\n",
              "        vertical-align: middle;\n",
              "    }\n",
              "\n",
              "    .dataframe tbody tr th {\n",
              "        vertical-align: top;\n",
              "    }\n",
              "\n",
              "    .dataframe thead th {\n",
              "        text-align: right;\n",
              "    }\n",
              "</style>\n",
              "<table border=\"1\" class=\"dataframe\">\n",
              "  <thead>\n",
              "    <tr style=\"text-align: right;\">\n",
              "      <th></th>\n",
              "      <th>0</th>\n",
              "      <th>1</th>\n",
              "      <th>2</th>\n",
              "      <th>weighted_pred</th>\n",
              "    </tr>\n",
              "  </thead>\n",
              "  <tbody>\n",
              "    <tr>\n",
              "      <th>0</th>\n",
              "      <td>0.0</td>\n",
              "      <td>0.0</td>\n",
              "      <td>0.2225</td>\n",
              "      <td>0.089</td>\n",
              "    </tr>\n",
              "    <tr>\n",
              "      <th>1</th>\n",
              "      <td>0.0</td>\n",
              "      <td>0.0</td>\n",
              "      <td>0.0200</td>\n",
              "      <td>0.008</td>\n",
              "    </tr>\n",
              "    <tr>\n",
              "      <th>2</th>\n",
              "      <td>0.0</td>\n",
              "      <td>0.0</td>\n",
              "      <td>0.0900</td>\n",
              "      <td>0.036</td>\n",
              "    </tr>\n",
              "    <tr>\n",
              "      <th>3</th>\n",
              "      <td>0.0</td>\n",
              "      <td>0.0</td>\n",
              "      <td>0.2000</td>\n",
              "      <td>0.080</td>\n",
              "    </tr>\n",
              "    <tr>\n",
              "      <th>4</th>\n",
              "      <td>0.0</td>\n",
              "      <td>0.0</td>\n",
              "      <td>0.0800</td>\n",
              "      <td>0.032</td>\n",
              "    </tr>\n",
              "  </tbody>\n",
              "</table>\n",
              "</div>"
            ],
            "text/plain": [
              "     0    1       2  weighted_pred\n",
              "0  0.0  0.0  0.2225          0.089\n",
              "1  0.0  0.0  0.0200          0.008\n",
              "2  0.0  0.0  0.0900          0.036\n",
              "3  0.0  0.0  0.2000          0.080\n",
              "4  0.0  0.0  0.0800          0.032"
            ]
          },
          "metadata": {
            "tags": []
          },
          "execution_count": 36
        }
      ]
    },
    {
      "cell_type": "code",
      "metadata": {
        "id": "cWs-VVwEv3aB",
        "colab": {
          "base_uri": "https://localhost:8080/"
        },
        "outputId": "d777f917-220d-424a-a950-9514b51af43b"
      },
      "source": [
        "from mlxtend.classifier import StackingClassifier\n",
        "m = StackingClassifier(\n",
        "    classifiers=[\n",
        "        KNeighborsClassifier(),\n",
        "        DecisionTreeClassifier(),\n",
        "        RandomForestClassifier()\n",
        "    ],\n",
        "    use_probas=True,\n",
        "    meta_classifier=XGBClassifier(max_depth=2)\n",
        ")\n",
        "m.fit(X_train_tfidf, y_train),"
      ],
      "execution_count": 36,
      "outputs": [
        {
          "output_type": "stream",
          "text": [
            "/usr/local/lib/python3.7/dist-packages/sklearn/externals/six.py:31: FutureWarning: The module is deprecated in version 0.21 and will be removed in version 0.23 since we've dropped support for Python 2.7. Please rely on the official version of six (https://pypi.org/project/six/).\n",
            "  \"(https://pypi.org/project/six/).\", FutureWarning)\n"
          ],
          "name": "stderr"
        },
        {
          "output_type": "execute_result",
          "data": {
            "text/plain": [
              "(StackingClassifier(average_probas=False,\n",
              "                    classifiers=[KNeighborsClassifier(algorithm='auto',\n",
              "                                                      leaf_size=30,\n",
              "                                                      metric='minkowski',\n",
              "                                                      metric_params=None,\n",
              "                                                      n_jobs=None, n_neighbors=5,\n",
              "                                                      p=2, weights='uniform'),\n",
              "                                 DecisionTreeClassifier(ccp_alpha=0.0,\n",
              "                                                        class_weight=None,\n",
              "                                                        criterion='gini',\n",
              "                                                        max_depth=None,\n",
              "                                                        max_features=None,\n",
              "                                                        max_leaf_nodes=None,\n",
              "                                                        min_impurity_decrease=0.0,\n",
              "                                                        min_impu...\n",
              "                                                  learning_rate=0.1,\n",
              "                                                  max_delta_step=0, max_depth=2,\n",
              "                                                  min_child_weight=1,\n",
              "                                                  missing=None, n_estimators=100,\n",
              "                                                  n_jobs=1, nthread=None,\n",
              "                                                  objective='binary:logistic',\n",
              "                                                  random_state=0, reg_alpha=0,\n",
              "                                                  reg_lambda=1,\n",
              "                                                  scale_pos_weight=1, seed=None,\n",
              "                                                  silent=None, subsample=1,\n",
              "                                                  verbosity=1),\n",
              "                    store_train_meta_features=False, use_clones=True,\n",
              "                    use_features_in_secondary=False, use_probas=True, verbose=0),)"
            ]
          },
          "metadata": {
            "tags": []
          },
          "execution_count": 36
        }
      ]
    },
    {
      "cell_type": "code",
      "metadata": {
        "id": "E1MvugUwwXZk"
      },
      "source": [
        "preds0['StackingClassifier_pred'] = model.predict_proba(X_test_tfidf)[:,0]\n",
        "preds1['StackingClassifier_pred'] = model.predict_proba(X_test_tfidf)[:,1]\n",
        "preds2['StackingClassifier_pred'] = model.predict_proba(X_test_tfidf)[:,2]"
      ],
      "execution_count": 37,
      "outputs": []
    },
    {
      "cell_type": "code",
      "metadata": {
        "id": "QXokcWGDwkQa",
        "colab": {
          "base_uri": "https://localhost:8080/",
          "height": 191
        },
        "outputId": "cf08c2ef-fbad-404e-ab86-6d5980d7147c"
      },
      "source": [
        "preds0.head()"
      ],
      "execution_count": 39,
      "outputs": [
        {
          "output_type": "execute_result",
          "data": {
            "text/html": [
              "<div>\n",
              "<style scoped>\n",
              "    .dataframe tbody tr th:only-of-type {\n",
              "        vertical-align: middle;\n",
              "    }\n",
              "\n",
              "    .dataframe tbody tr th {\n",
              "        vertical-align: top;\n",
              "    }\n",
              "\n",
              "    .dataframe thead th {\n",
              "        text-align: right;\n",
              "    }\n",
              "</style>\n",
              "<table border=\"1\" class=\"dataframe\">\n",
              "  <thead>\n",
              "    <tr style=\"text-align: right;\">\n",
              "      <th></th>\n",
              "      <th>0</th>\n",
              "      <th>1</th>\n",
              "      <th>2</th>\n",
              "      <th>weighted_pred</th>\n",
              "      <th>StackingClassifier_pred</th>\n",
              "    </tr>\n",
              "  </thead>\n",
              "  <tbody>\n",
              "    <tr>\n",
              "      <th>0</th>\n",
              "      <td>1.0</td>\n",
              "      <td>1.0</td>\n",
              "      <td>0.7675</td>\n",
              "      <td>0.907</td>\n",
              "      <td>0.7675</td>\n",
              "    </tr>\n",
              "    <tr>\n",
              "      <th>1</th>\n",
              "      <td>0.8</td>\n",
              "      <td>1.0</td>\n",
              "      <td>0.9600</td>\n",
              "      <td>0.944</td>\n",
              "      <td>0.9600</td>\n",
              "    </tr>\n",
              "    <tr>\n",
              "      <th>2</th>\n",
              "      <td>1.0</td>\n",
              "      <td>1.0</td>\n",
              "      <td>0.4200</td>\n",
              "      <td>0.768</td>\n",
              "      <td>0.4200</td>\n",
              "    </tr>\n",
              "    <tr>\n",
              "      <th>3</th>\n",
              "      <td>1.0</td>\n",
              "      <td>1.0</td>\n",
              "      <td>0.8000</td>\n",
              "      <td>0.920</td>\n",
              "      <td>0.8000</td>\n",
              "    </tr>\n",
              "    <tr>\n",
              "      <th>4</th>\n",
              "      <td>1.0</td>\n",
              "      <td>0.0</td>\n",
              "      <td>0.8000</td>\n",
              "      <td>0.520</td>\n",
              "      <td>0.8000</td>\n",
              "    </tr>\n",
              "  </tbody>\n",
              "</table>\n",
              "</div>"
            ],
            "text/plain": [
              "     0    1       2  weighted_pred  StackingClassifier_pred\n",
              "0  1.0  1.0  0.7675          0.907                   0.7675\n",
              "1  0.8  1.0  0.9600          0.944                   0.9600\n",
              "2  1.0  1.0  0.4200          0.768                   0.4200\n",
              "3  1.0  1.0  0.8000          0.920                   0.8000\n",
              "4  1.0  0.0  0.8000          0.520                   0.8000"
            ]
          },
          "metadata": {
            "tags": []
          },
          "execution_count": 39
        }
      ]
    },
    {
      "cell_type": "code",
      "metadata": {
        "id": "czj8KnQjxErv",
        "colab": {
          "base_uri": "https://localhost:8080/",
          "height": 191
        },
        "outputId": "010b581a-8494-4be9-9113-90592e00a1fa"
      },
      "source": [
        "preds1.head()"
      ],
      "execution_count": 40,
      "outputs": [
        {
          "output_type": "execute_result",
          "data": {
            "text/html": [
              "<div>\n",
              "<style scoped>\n",
              "    .dataframe tbody tr th:only-of-type {\n",
              "        vertical-align: middle;\n",
              "    }\n",
              "\n",
              "    .dataframe tbody tr th {\n",
              "        vertical-align: top;\n",
              "    }\n",
              "\n",
              "    .dataframe thead th {\n",
              "        text-align: right;\n",
              "    }\n",
              "</style>\n",
              "<table border=\"1\" class=\"dataframe\">\n",
              "  <thead>\n",
              "    <tr style=\"text-align: right;\">\n",
              "      <th></th>\n",
              "      <th>0</th>\n",
              "      <th>1</th>\n",
              "      <th>2</th>\n",
              "      <th>weighted_pred</th>\n",
              "      <th>StackingClassifier_pred</th>\n",
              "    </tr>\n",
              "  </thead>\n",
              "  <tbody>\n",
              "    <tr>\n",
              "      <th>0</th>\n",
              "      <td>0.0</td>\n",
              "      <td>0.0</td>\n",
              "      <td>0.01</td>\n",
              "      <td>0.004</td>\n",
              "      <td>0.01</td>\n",
              "    </tr>\n",
              "    <tr>\n",
              "      <th>1</th>\n",
              "      <td>0.2</td>\n",
              "      <td>0.0</td>\n",
              "      <td>0.02</td>\n",
              "      <td>0.048</td>\n",
              "      <td>0.02</td>\n",
              "    </tr>\n",
              "    <tr>\n",
              "      <th>2</th>\n",
              "      <td>0.0</td>\n",
              "      <td>0.0</td>\n",
              "      <td>0.49</td>\n",
              "      <td>0.196</td>\n",
              "      <td>0.49</td>\n",
              "    </tr>\n",
              "    <tr>\n",
              "      <th>3</th>\n",
              "      <td>0.0</td>\n",
              "      <td>0.0</td>\n",
              "      <td>0.00</td>\n",
              "      <td>0.000</td>\n",
              "      <td>0.00</td>\n",
              "    </tr>\n",
              "    <tr>\n",
              "      <th>4</th>\n",
              "      <td>0.0</td>\n",
              "      <td>1.0</td>\n",
              "      <td>0.12</td>\n",
              "      <td>0.448</td>\n",
              "      <td>0.12</td>\n",
              "    </tr>\n",
              "  </tbody>\n",
              "</table>\n",
              "</div>"
            ],
            "text/plain": [
              "     0    1     2  weighted_pred  StackingClassifier_pred\n",
              "0  0.0  0.0  0.01          0.004                     0.01\n",
              "1  0.2  0.0  0.02          0.048                     0.02\n",
              "2  0.0  0.0  0.49          0.196                     0.49\n",
              "3  0.0  0.0  0.00          0.000                     0.00\n",
              "4  0.0  1.0  0.12          0.448                     0.12"
            ]
          },
          "metadata": {
            "tags": []
          },
          "execution_count": 40
        }
      ]
    },
    {
      "cell_type": "code",
      "metadata": {
        "id": "FcHqkBzUxFWV",
        "colab": {
          "base_uri": "https://localhost:8080/",
          "height": 191
        },
        "outputId": "2a5a7955-0318-4128-c27e-ac60841035ca"
      },
      "source": [
        "preds2.head()"
      ],
      "execution_count": 41,
      "outputs": [
        {
          "output_type": "execute_result",
          "data": {
            "text/html": [
              "<div>\n",
              "<style scoped>\n",
              "    .dataframe tbody tr th:only-of-type {\n",
              "        vertical-align: middle;\n",
              "    }\n",
              "\n",
              "    .dataframe tbody tr th {\n",
              "        vertical-align: top;\n",
              "    }\n",
              "\n",
              "    .dataframe thead th {\n",
              "        text-align: right;\n",
              "    }\n",
              "</style>\n",
              "<table border=\"1\" class=\"dataframe\">\n",
              "  <thead>\n",
              "    <tr style=\"text-align: right;\">\n",
              "      <th></th>\n",
              "      <th>0</th>\n",
              "      <th>1</th>\n",
              "      <th>2</th>\n",
              "      <th>weighted_pred</th>\n",
              "      <th>StackingClassifier_pred</th>\n",
              "    </tr>\n",
              "  </thead>\n",
              "  <tbody>\n",
              "    <tr>\n",
              "      <th>0</th>\n",
              "      <td>0.0</td>\n",
              "      <td>0.0</td>\n",
              "      <td>0.2225</td>\n",
              "      <td>0.089</td>\n",
              "      <td>0.2225</td>\n",
              "    </tr>\n",
              "    <tr>\n",
              "      <th>1</th>\n",
              "      <td>0.0</td>\n",
              "      <td>0.0</td>\n",
              "      <td>0.0200</td>\n",
              "      <td>0.008</td>\n",
              "      <td>0.0200</td>\n",
              "    </tr>\n",
              "    <tr>\n",
              "      <th>2</th>\n",
              "      <td>0.0</td>\n",
              "      <td>0.0</td>\n",
              "      <td>0.0900</td>\n",
              "      <td>0.036</td>\n",
              "      <td>0.0900</td>\n",
              "    </tr>\n",
              "    <tr>\n",
              "      <th>3</th>\n",
              "      <td>0.0</td>\n",
              "      <td>0.0</td>\n",
              "      <td>0.2000</td>\n",
              "      <td>0.080</td>\n",
              "      <td>0.2000</td>\n",
              "    </tr>\n",
              "    <tr>\n",
              "      <th>4</th>\n",
              "      <td>0.0</td>\n",
              "      <td>0.0</td>\n",
              "      <td>0.0800</td>\n",
              "      <td>0.032</td>\n",
              "      <td>0.0800</td>\n",
              "    </tr>\n",
              "  </tbody>\n",
              "</table>\n",
              "</div>"
            ],
            "text/plain": [
              "     0    1       2  weighted_pred  StackingClassifier_pred\n",
              "0  0.0  0.0  0.2225          0.089                   0.2225\n",
              "1  0.0  0.0  0.0200          0.008                   0.0200\n",
              "2  0.0  0.0  0.0900          0.036                   0.0900\n",
              "3  0.0  0.0  0.2000          0.080                   0.2000\n",
              "4  0.0  0.0  0.0800          0.032                   0.0800"
            ]
          },
          "metadata": {
            "tags": []
          },
          "execution_count": 41
        }
      ]
    },
    {
      "cell_type": "code",
      "metadata": {
        "id": "bfHmwDfHyPNW"
      },
      "source": [
        "pred = pd.DataFrame()\n",
        "pred[0] = preds0.StackingClassifier_pred\n",
        "pred[1] = preds1.StackingClassifier_pred\n",
        "pred[2] = preds2.StackingClassifier_pred"
      ],
      "execution_count": 42,
      "outputs": []
    },
    {
      "cell_type": "code",
      "metadata": {
        "id": "rQltWVqZ00PK",
        "colab": {
          "base_uri": "https://localhost:8080/",
          "height": 191
        },
        "outputId": "b5d896ae-e3c5-4238-91d3-ce513c32148e"
      },
      "source": [
        "pred['best_pred'] = pred.idxmax(axis=1)\n",
        "pred.head()"
      ],
      "execution_count": 43,
      "outputs": [
        {
          "output_type": "execute_result",
          "data": {
            "text/html": [
              "<div>\n",
              "<style scoped>\n",
              "    .dataframe tbody tr th:only-of-type {\n",
              "        vertical-align: middle;\n",
              "    }\n",
              "\n",
              "    .dataframe tbody tr th {\n",
              "        vertical-align: top;\n",
              "    }\n",
              "\n",
              "    .dataframe thead th {\n",
              "        text-align: right;\n",
              "    }\n",
              "</style>\n",
              "<table border=\"1\" class=\"dataframe\">\n",
              "  <thead>\n",
              "    <tr style=\"text-align: right;\">\n",
              "      <th></th>\n",
              "      <th>0</th>\n",
              "      <th>1</th>\n",
              "      <th>2</th>\n",
              "      <th>best_pred</th>\n",
              "    </tr>\n",
              "  </thead>\n",
              "  <tbody>\n",
              "    <tr>\n",
              "      <th>0</th>\n",
              "      <td>0.7675</td>\n",
              "      <td>0.01</td>\n",
              "      <td>0.2225</td>\n",
              "      <td>0</td>\n",
              "    </tr>\n",
              "    <tr>\n",
              "      <th>1</th>\n",
              "      <td>0.9600</td>\n",
              "      <td>0.02</td>\n",
              "      <td>0.0200</td>\n",
              "      <td>0</td>\n",
              "    </tr>\n",
              "    <tr>\n",
              "      <th>2</th>\n",
              "      <td>0.4200</td>\n",
              "      <td>0.49</td>\n",
              "      <td>0.0900</td>\n",
              "      <td>1</td>\n",
              "    </tr>\n",
              "    <tr>\n",
              "      <th>3</th>\n",
              "      <td>0.8000</td>\n",
              "      <td>0.00</td>\n",
              "      <td>0.2000</td>\n",
              "      <td>0</td>\n",
              "    </tr>\n",
              "    <tr>\n",
              "      <th>4</th>\n",
              "      <td>0.8000</td>\n",
              "      <td>0.12</td>\n",
              "      <td>0.0800</td>\n",
              "      <td>0</td>\n",
              "    </tr>\n",
              "  </tbody>\n",
              "</table>\n",
              "</div>"
            ],
            "text/plain": [
              "        0     1       2  best_pred\n",
              "0  0.7675  0.01  0.2225          0\n",
              "1  0.9600  0.02  0.0200          0\n",
              "2  0.4200  0.49  0.0900          1\n",
              "3  0.8000  0.00  0.2000          0\n",
              "4  0.8000  0.12  0.0800          0"
            ]
          },
          "metadata": {
            "tags": []
          },
          "execution_count": 43
        }
      ]
    },
    {
      "cell_type": "code",
      "metadata": {
        "id": "HHogrWz_7IBB",
        "colab": {
          "base_uri": "https://localhost:8080/"
        },
        "outputId": "2d6b2161-416c-43f2-84f4-db6d534ca17e"
      },
      "source": [
        "kfold = model_selection.KFold(n_splits=10, random_state=seed)\n",
        "cv_results = model_selection.cross_val_score(m, X_train_tfidf, y_train, cv=kfold, scoring=scoring)\n",
        "results.append(cv_results)\n",
        "names.append(name)\n",
        "msg = \"%s: %f (%f)\" % (name, cv_results.mean(), cv_results.std())\n",
        "print(msg)"
      ],
      "execution_count": 44,
      "outputs": [
        {
          "output_type": "stream",
          "text": [
            "/usr/local/lib/python3.7/dist-packages/sklearn/model_selection/_split.py:296: FutureWarning: Setting a random_state has no effect since shuffle is False. This will raise an error in 0.24. You should leave random_state to its default (None), or set shuffle=True.\n",
            "  FutureWarning\n"
          ],
          "name": "stderr"
        },
        {
          "output_type": "stream",
          "text": [
            "RF: 0.651590 (0.018416)\n"
          ],
          "name": "stdout"
        }
      ]
    },
    {
      "cell_type": "markdown",
      "metadata": {
        "id": "3JLVo7-gZCPE"
      },
      "source": [
        "**2.Balancing the dataset**"
      ]
    },
    {
      "cell_type": "code",
      "metadata": {
        "colab": {
          "base_uri": "https://localhost:8080/",
          "height": 362
        },
        "id": "FJESDNuST7gO",
        "outputId": "77a12cd6-9363-4b26-cc4e-1d729a222736"
      },
      "source": [
        "from imblearn.over_sampling import SMOTE\n",
        "\n",
        "smote = SMOTE(ratio='minority', n_jobs=-1)\n",
        "X_sm, y_sm = smote.fit_resample(X_train_tfidf, y_train)\n",
        "\n",
        "df = pd.DataFrame(X_sm)\n",
        "df['target'] = y_sm\n",
        "df['target'].value_counts().plot(kind='bar', title='Count (target)');"
      ],
      "execution_count": 45,
      "outputs": [
        {
          "output_type": "stream",
          "text": [
            "/usr/local/lib/python3.7/dist-packages/sklearn/utils/deprecation.py:144: FutureWarning: The sklearn.neighbors.base module is  deprecated in version 0.22 and will be removed in version 0.24. The corresponding classes / functions should instead be imported from sklearn.neighbors. Anything that cannot be imported from sklearn.neighbors is now part of the private API.\n",
            "  warnings.warn(message, FutureWarning)\n",
            "/usr/local/lib/python3.7/dist-packages/sklearn/utils/deprecation.py:87: FutureWarning: Function safe_indexing is deprecated; safe_indexing is deprecated in version 0.22 and will be removed in version 0.24.\n",
            "  warnings.warn(msg, category=FutureWarning)\n"
          ],
          "name": "stderr"
        },
        {
          "output_type": "display_data",
          "data": {
            "image/png": "[encoded data removed]",
            "text/plain": [
              "<Figure size 432x288 with 1 Axes>"
            ]
          },
          "metadata": {
            "tags": [],
            "needs_background": "light"
          }
        }
      ]
    },
    {
      "cell_type": "code",
      "metadata": {
        "colab": {
          "base_uri": "https://localhost:8080/"
        },
        "id": "hlgaLg9MZWeL",
        "outputId": "a89524db-8b10-4d69-9322-7d0a2b8e4609"
      },
      "source": [
        "seed = 5\n",
        "scoring = 'accuracy'\n",
        "kfold = model_selection.KFold(n_splits=10, random_state=seed)\n",
        "cv_results = model_selection.cross_val_score(XGBClassifier(max_depth=2), X_sm, y_sm, cv=kfold, scoring=scoring)\n",
        "msg = \": %f (%f)\" % ( cv_results.mean(), cv_results.std())\n",
        "print(msg)"
      ],
      "execution_count": 46,
      "outputs": [
        {
          "output_type": "stream",
          "text": [
            "/usr/local/lib/python3.7/dist-packages/sklearn/model_selection/_split.py:296: FutureWarning: Setting a random_state has no effect since shuffle is False. This will raise an error in 0.24. You should leave random_state to its default (None), or set shuffle=True.\n",
            "  FutureWarning\n"
          ],
          "name": "stderr"
        },
        {
          "output_type": "stream",
          "text": [
            ": 0.741156 (0.045756)\n"
          ],
          "name": "stdout"
        }
      ]
    },
    {
      "cell_type": "markdown",
      "metadata": {
        "id": "5k7bvxAfmtKV"
      },
      "source": [
        "**3.Transfer learning**"
      ]
    },
    {
      "cell_type": "code",
      "metadata": {
        "id": "mmw90FCHnGr7",
        "colab": {
          "base_uri": "https://localhost:8080/"
        },
        "outputId": "056b0610-8b47-47b4-a955-2b1c6d30e207"
      },
      "source": [
        "!pip install transformers"
      ],
      "execution_count": 38,
      "outputs": [
        {
          "output_type": "stream",
          "text": [
            "Collecting transformers\n",
            "\u001b[?25l  Downloading https://files.pythonhosted.org/packages/b0/9e/5b80becd952d5f7250eaf8fc64b957077b12ccfe73e9c03d37146ab29712/transformers-4.6.0-py3-none-any.whl (2.3MB)\n",
            "\u001b[K     |████████████████████████████████| 2.3MB 4.1MB/s \n",
            "\u001b[?25hRequirement already satisfied: requests in /usr/local/lib/python3.7/dist-packages (from transformers) (2.23.0)\n",
            "Collecting tokenizers<0.11,>=0.10.1\n",
            "\u001b[?25l  Downloading https://files.pythonhosted.org/packages/ae/04/5b870f26a858552025a62f1649c20d29d2672c02ff3c3fb4c688ca46467a/tokenizers-0.10.2-cp37-cp37m-manylinux2010_x86_64.whl (3.3MB)\n",
            "\u001b[K     |████████████████████████████████| 3.3MB 36.5MB/s \n",
            "\u001b[?25hCollecting huggingface-hub==0.0.8\n",
            "  Downloading https://files.pythonhosted.org/packages/a1/88/7b1e45720ecf59c6c6737ff332f41c955963090a18e72acbcbeac6b25e86/huggingface_hub-0.0.8-py3-none-any.whl\n",
            "Requirement already satisfied: regex!=2019.12.17 in /usr/local/lib/python3.7/dist-packages (from transformers) (2019.12.20)\n",
            "Requirement already satisfied: filelock in /usr/local/lib/python3.7/dist-packages (from transformers) (3.0.12)\n",
            "Requirement already satisfied: importlib-metadata; python_version < \"3.8\" in /usr/local/lib/python3.7/dist-packages (from transformers) (4.0.1)\n",
            "Requirement already satisfied: tqdm>=4.27 in /usr/local/lib/python3.7/dist-packages (from transformers) (4.41.1)\n",
            "Requirement already satisfied: packaging in /usr/local/lib/python3.7/dist-packages (from transformers) (20.9)\n",
            "Collecting sacremoses\n",
            "\u001b[?25l  Downloading https://files.pythonhosted.org/packages/75/ee/67241dc87f266093c533a2d4d3d69438e57d7a90abb216fa076e7d475d4a/sacremoses-0.0.45-py3-none-any.whl (895kB)\n",
            "\u001b[K     |████████████████████████████████| 901kB 38.0MB/s \n",
            "\u001b[?25hRequirement already satisfied: numpy>=1.17 in /usr/local/lib/python3.7/dist-packages (from transformers) (1.19.5)\n",
            "Requirement already satisfied: idna<3,>=2.5 in /usr/local/lib/python3.7/dist-packages (from requests->transformers) (2.10)\n",
            "Requirement already satisfied: urllib3!=1.25.0,!=1.25.1,<1.26,>=1.21.1 in /usr/local/lib/python3.7/dist-packages (from requests->transformers) (1.24.3)\n",
            "Requirement already satisfied: chardet<4,>=3.0.2 in /usr/local/lib/python3.7/dist-packages (from requests->transformers) (3.0.4)\n",
            "Requirement already satisfied: certifi>=2017.4.17 in /usr/local/lib/python3.7/dist-packages (from requests->transformers) (2020.12.5)\n",
            "Requirement already satisfied: typing-extensions>=3.6.4; python_version < \"3.8\" in /usr/local/lib/python3.7/dist-packages (from importlib-metadata; python_version < \"3.8\"->transformers) (3.7.4.3)\n",
            "Requirement already satisfied: zipp>=0.5 in /usr/local/lib/python3.7/dist-packages (from importlib-metadata; python_version < \"3.8\"->transformers) (3.4.1)\n",
            "Requirement already satisfied: pyparsing>=2.0.2 in /usr/local/lib/python3.7/dist-packages (from packaging->transformers) (2.4.7)\n",
            "Requirement already satisfied: joblib in /usr/local/lib/python3.7/dist-packages (from sacremoses->transformers) (1.0.1)\n",
            "Requirement already satisfied: click in /usr/local/lib/python3.7/dist-packages (from sacremoses->transformers) (8.0.0)\n",
            "Requirement already satisfied: six in /usr/local/lib/python3.7/dist-packages (from sacremoses->transformers) (1.15.0)\n",
            "Installing collected packages: tokenizers, huggingface-hub, sacremoses, transformers\n",
            "Successfully installed huggingface-hub-0.0.8 sacremoses-0.0.45 tokenizers-0.10.2 transformers-4.6.0\n"
          ],
          "name": "stdout"
        }
      ]
    },
    {
      "cell_type": "code",
      "metadata": {
        "id": "3v_4tesDmsk-"
      },
      "source": [
        "import numpy as np\n",
        "import re\n",
        "import pandas as pd\n",
        "import nltk\n",
        "import torch\n",
        "import torch.nn as nn\n",
        "from sklearn.model_selection import train_test_split\n",
        "from sklearn.metrics import classification_report\n",
        "import transformers\n",
        "from transformers import BertModel, BertTokenizer, AdamW, get_linear_schedule_with_warmup\n",
        "import numpy as np\n",
        "import pandas as pd\n",
        "import seaborn as sns\n",
        "from pylab import rcParams\n",
        "import matplotlib.pyplot as plt\n",
        "from matplotlib import rc\n",
        "from sklearn.model_selection import train_test_split\n",
        "from sklearn.metrics import confusion_matrix, classification_report\n",
        "from collections import defaultdict\n",
        "from textwrap import wrap\n",
        "import torch\n",
        "from torch import nn, optim\n",
        "from torch.utils.data import Dataset, DataLoader"
      ],
      "execution_count": 40,
      "outputs": []
    },
    {
      "cell_type": "code",
      "metadata": {
        "id": "tpn8PPy6nOIK"
      },
      "source": [
        "device = torch.device(\"cuda\")"
      ],
      "execution_count": 41,
      "outputs": []
    },
    {
      "cell_type": "code",
      "metadata": {
        "id": "zxqb6hE-ZOFy",
        "colab": {
          "base_uri": "https://localhost:8080/",
          "height": 1000
        },
        "outputId": "c673f6a7-ead2-44a4-eb6f-0305a9686d72"
      },
      "source": [
        "!pip install tensorflow==1.15.0\n",
        "!pip install pyspellchecker\n",
        "!pip install pandas-profiling --ignore-installed"
      ],
      "execution_count": 42,
      "outputs": [
        {
          "output_type": "stream",
          "text": [
            "Collecting tensorflow==1.15.0\n",
            "\u001b[?25l  Downloading https://files.pythonhosted.org/packages/92/2b/e3af15221da9ff323521565fa3324b0d7c7c5b1d7a8ca66984c8d59cb0ce/tensorflow-1.15.0-cp37-cp37m-manylinux2010_x86_64.whl (412.3MB)\n",
            "\u001b[K     |████████████████████████████████| 412.3MB 43kB/s \n",
            "\u001b[?25hRequirement already satisfied: astor>=0.6.0 in /usr/local/lib/python3.7/dist-packages (from tensorflow==1.15.0) (0.8.1)\n",
            "Collecting keras-applications>=1.0.8\n",
            "\u001b[?25l  Downloading https://files.pythonhosted.org/packages/71/e3/19762fdfc62877ae9102edf6342d71b28fbfd9dea3d2f96a882ce099b03f/Keras_Applications-1.0.8-py3-none-any.whl (50kB)\n",
            "\u001b[K     |████████████████████████████████| 51kB 6.2MB/s \n",
            "\u001b[?25hRequirement already satisfied: grpcio>=1.8.6 in /usr/local/lib/python3.7/dist-packages (from tensorflow==1.15.0) (1.32.0)\n",
            "Requirement already satisfied: absl-py>=0.7.0 in /usr/local/lib/python3.7/dist-packages (from tensorflow==1.15.0) (0.12.0)\n",
            "Requirement already satisfied: wrapt>=1.11.1 in /usr/local/lib/python3.7/dist-packages (from tensorflow==1.15.0) (1.12.1)\n",
            "Collecting tensorflow-estimator==1.15.1\n",
            "\u001b[?25l  Downloading https://files.pythonhosted.org/packages/de/62/2ee9cd74c9fa2fa450877847ba560b260f5d0fb70ee0595203082dafcc9d/tensorflow_estimator-1.15.1-py2.py3-none-any.whl (503kB)\n",
            "\u001b[K     |████████████████████████████████| 512kB 36.9MB/s \n",
            "\u001b[?25hRequirement already satisfied: protobuf>=3.6.1 in /usr/local/lib/python3.7/dist-packages (from tensorflow==1.15.0) (3.12.4)\n",
            "Requirement already satisfied: keras-preprocessing>=1.0.5 in /usr/local/lib/python3.7/dist-packages (from tensorflow==1.15.0) (1.1.2)\n",
            "Requirement already satisfied: wheel>=0.26 in /usr/local/lib/python3.7/dist-packages (from tensorflow==1.15.0) (0.36.2)\n",
            "Collecting tensorboard<1.16.0,>=1.15.0\n",
            "\u001b[?25l  Downloading https://files.pythonhosted.org/packages/1e/e9/d3d747a97f7188f48aa5eda486907f3b345cd409f0a0850468ba867db246/tensorboard-1.15.0-py3-none-any.whl (3.8MB)\n",
            "\u001b[K     |████████████████████████████████| 3.8MB 27.8MB/s \n",
            "\u001b[?25hRequirement already satisfied: google-pasta>=0.1.6 in /usr/local/lib/python3.7/dist-packages (from tensorflow==1.15.0) (0.2.0)\n",
            "Collecting gast==0.2.2\n",
            "  Downloading https://files.pythonhosted.org/packages/4e/35/11749bf99b2d4e3cceb4d55ca22590b0d7c2c62b9de38ac4a4a7f4687421/gast-0.2.2.tar.gz\n",
            "Requirement already satisfied: opt-einsum>=2.3.2 in /usr/local/lib/python3.7/dist-packages (from tensorflow==1.15.0) (3.3.0)\n",
            "Requirement already satisfied: six>=1.10.0 in /usr/local/lib/python3.7/dist-packages (from tensorflow==1.15.0) (1.15.0)\n",
            "Requirement already satisfied: numpy<2.0,>=1.16.0 in /usr/local/lib/python3.7/dist-packages (from tensorflow==1.15.0) (1.19.5)\n",
            "Requirement already satisfied: termcolor>=1.1.0 in /usr/local/lib/python3.7/dist-packages (from tensorflow==1.15.0) (1.1.0)\n",
            "Requirement already satisfied: h5py in /usr/local/lib/python3.7/dist-packages (from keras-applications>=1.0.8->tensorflow==1.15.0) (2.10.0)\n",
            "Requirement already satisfied: setuptools in /usr/local/lib/python3.7/dist-packages (from protobuf>=3.6.1->tensorflow==1.15.0) (56.1.0)\n",
            "Requirement already satisfied: werkzeug>=0.11.15 in /usr/local/lib/python3.7/dist-packages (from tensorboard<1.16.0,>=1.15.0->tensorflow==1.15.0) (2.0.0)\n",
            "Requirement already satisfied: markdown>=2.6.8 in /usr/local/lib/python3.7/dist-packages (from tensorboard<1.16.0,>=1.15.0->tensorflow==1.15.0) (3.3.4)\n",
            "Requirement already satisfied: importlib-metadata; python_version < \"3.8\" in /usr/local/lib/python3.7/dist-packages (from markdown>=2.6.8->tensorboard<1.16.0,>=1.15.0->tensorflow==1.15.0) (4.0.1)\n",
            "Requirement already satisfied: zipp>=0.5 in /usr/local/lib/python3.7/dist-packages (from importlib-metadata; python_version < \"3.8\"->markdown>=2.6.8->tensorboard<1.16.0,>=1.15.0->tensorflow==1.15.0) (3.4.1)\n",
            "Requirement already satisfied: typing-extensions>=3.6.4; python_version < \"3.8\" in /usr/local/lib/python3.7/dist-packages (from importlib-metadata; python_version < \"3.8\"->markdown>=2.6.8->tensorboard<1.16.0,>=1.15.0->tensorflow==1.15.0) (3.7.4.3)\n",
            "Building wheels for collected packages: gast\n",
            "  Building wheel for gast (setup.py) ... \u001b[?25l\u001b[?25hdone\n",
            "  Created wheel for gast: filename=gast-0.2.2-cp37-none-any.whl size=7540 sha256=809100dd318c9c05754b09c3f36370ad2033b7e77085a354b7867514d12f5c85\n",
            "  Stored in directory: /root/.cache/pip/wheels/5c/2e/7e/a1d4d4fcebe6c381f378ce7743a3ced3699feb89bcfbdadadd\n",
            "Successfully built gast\n",
            "\u001b[31mERROR: tensorflow-probability 0.12.1 has requirement gast>=0.3.2, but you'll have gast 0.2.2 which is incompatible.\u001b[0m\n",
            "Installing collected packages: keras-applications, tensorflow-estimator, tensorboard, gast, tensorflow\n",
            "  Found existing installation: tensorflow-estimator 2.4.0\n",
            "    Uninstalling tensorflow-estimator-2.4.0:\n",
            "      Successfully uninstalled tensorflow-estimator-2.4.0\n",
            "  Found existing installation: tensorboard 2.4.1\n",
            "    Uninstalling tensorboard-2.4.1:\n",
            "      Successfully uninstalled tensorboard-2.4.1\n",
            "  Found existing installation: gast 0.3.3\n",
            "    Uninstalling gast-0.3.3:\n",
            "      Successfully uninstalled gast-0.3.3\n",
            "  Found existing installation: tensorflow 2.4.1\n",
            "    Uninstalling tensorflow-2.4.1:\n",
            "      Successfully uninstalled tensorflow-2.4.1\n",
            "Successfully installed gast-0.2.2 keras-applications-1.0.8 tensorboard-1.15.0 tensorflow-1.15.0 tensorflow-estimator-1.15.1\n"
          ],
          "name": "stdout"
        },
        {
          "output_type": "display_data",
          "data": {
            "application/vnd.colab-display-data+json": {
              "pip_warning": {
                "packages": [
                  "gast",
                  "tensorboard",
                  "tensorflow"
                ]
              }
            }
          },
          "metadata": {
            "tags": []
          }
        },
        {
          "output_type": "stream",
          "text": [
            "Collecting pyspellchecker\n",
            "\u001b[?25l  Downloading https://files.pythonhosted.org/packages/64/c7/435f49c0ac6bec031d1aba4daf94dc21dc08a9db329692cdb77faac51cea/pyspellchecker-0.6.2-py3-none-any.whl (2.7MB)\n",
            "\u001b[K     |████████████████████████████████| 2.7MB 4.0MB/s \n",
            "\u001b[?25hInstalling collected packages: pyspellchecker\n",
            "Successfully installed pyspellchecker-0.6.2\n",
            "Collecting pandas-profiling\n",
            "\u001b[?25l  Downloading https://files.pythonhosted.org/packages/3b/a3/34519d16e5ebe69bad30c5526deea2c3912634ced7f9b5e6e0bb9dbbd567/pandas_profiling-3.0.0-py2.py3-none-any.whl (248kB)\n",
            "\u001b[K     |████████████████████████████████| 256kB 6.0MB/s \n",
            "\u001b[?25hCollecting matplotlib>=3.2.0\n",
            "\u001b[?25l  Downloading https://files.pythonhosted.org/packages/24/33/5568d443ba438d95d4db635dd69958056f087e57e1026bee56f959d53f9d/matplotlib-3.4.2-cp37-cp37m-manylinux1_x86_64.whl (10.3MB)\n",
            "\u001b[K     |████████████████████████████████| 10.3MB 31.3MB/s \n",
            "\u001b[?25hCollecting missingno>=0.4.2\n",
            "  Downloading https://files.pythonhosted.org/packages/2b/de/6e4dd6d720c49939544352155dc06a08c9f7e4271aa631a559dfbeaaf9d4/missingno-0.4.2-py3-none-any.whl\n",
            "Collecting jinja2>=2.11.1\n",
            "\u001b[?25l  Downloading https://files.pythonhosted.org/packages/80/21/ae597efc7ed8caaa43fb35062288baaf99a7d43ff0cf66452ddf47604ee6/Jinja2-3.0.1-py3-none-any.whl (133kB)\n",
            "\u001b[K     |████████████████████████████████| 143kB 36.3MB/s \n",
            "\u001b[?25hCollecting numpy>=1.16.0\n",
            "\u001b[?25l  Downloading https://files.pythonhosted.org/packages/a5/42/560d269f604d3e186a57c21a363e77e199358d054884e61b73e405dd217c/numpy-1.20.3-cp37-cp37m-manylinux_2_12_x86_64.manylinux2010_x86_64.whl (15.3MB)\n",
            "\u001b[K     |████████████████████████████████| 15.3MB 146kB/s \n",
            "\u001b[?25hCollecting htmlmin>=0.1.12\n",
            "  Downloading https://files.pythonhosted.org/packages/b3/e7/fcd59e12169de19f0131ff2812077f964c6b960e7c09804d30a7bf2ab461/htmlmin-0.1.12.tar.gz\n",
            "Collecting requests>=2.24.0\n",
            "\u001b[?25l  Downloading https://files.pythonhosted.org/packages/29/c1/24814557f1d22c56d50280771a17307e6bf87b70727d975fd6b2ce6b014a/requests-2.25.1-py2.py3-none-any.whl (61kB)\n",
            "\u001b[K     |████████████████████████████████| 61kB 7.6MB/s \n",
            "\u001b[?25hCollecting joblib\n",
            "\u001b[?25l  Downloading https://files.pythonhosted.org/packages/55/85/70c6602b078bd9e6f3da4f467047e906525c355a4dacd4f71b97a35d9897/joblib-1.0.1-py3-none-any.whl (303kB)\n",
            "\u001b[K     |████████████████████████████████| 307kB 34.7MB/s \n",
            "\u001b[?25hCollecting tqdm>=4.48.2\n",
            "\u001b[?25l  Downloading https://files.pythonhosted.org/packages/72/8a/34efae5cf9924328a8f34eeb2fdaae14c011462d9f0e3fcded48e1266d1c/tqdm-4.60.0-py2.py3-none-any.whl (75kB)\n",
            "\u001b[K     |████████████████████████████████| 81kB 9.6MB/s \n",
            "\u001b[?25hCollecting pandas!=1.0.0,!=1.0.1,!=1.0.2,!=1.1.0,>=0.25.3\n",
            "\u001b[?25l  Downloading https://files.pythonhosted.org/packages/51/51/48f3fc47c4e2144da2806dfb6629c4dd1fa3d5a143f9652b141e979a8ca9/pandas-1.2.4-cp37-cp37m-manylinux1_x86_64.whl (9.9MB)\n",
            "\u001b[K     |████████████████████████████████| 9.9MB 30.8MB/s \n",
            "\u001b[?25hCollecting PyYAML>=5.0.0\n",
            "\u001b[?25l  Downloading https://files.pythonhosted.org/packages/7a/a5/393c087efdc78091afa2af9f1378762f9821c9c1d7a22c5753fb5ac5f97a/PyYAML-5.4.1-cp37-cp37m-manylinux1_x86_64.whl (636kB)\n",
            "\u001b[K     |████████████████████████████████| 645kB 33.3MB/s \n",
            "\u001b[?25hCollecting visions[type_image_path]==0.7.1\n",
            "\u001b[?25l  Downloading https://files.pythonhosted.org/packages/80/96/01e4ba22cef96ae5035dbcf0451c2f4f859f8f17393b98406b23f0034279/visions-0.7.1-py3-none-any.whl (102kB)\n",
            "\u001b[K     |████████████████████████████████| 112kB 38.8MB/s \n",
            "\u001b[?25hCollecting tangled-up-in-unicode==0.1.0\n",
            "\u001b[?25l  Downloading https://files.pythonhosted.org/packages/93/3e/cb354fb2097fcf2fd5b5a342b10ae2a6e9363ba435b64e3e00c414064bc7/tangled_up_in_unicode-0.1.0-py3-none-any.whl (3.1MB)\n",
            "\u001b[K     |████████████████████████████████| 3.1MB 27.3MB/s \n",
            "\u001b[?25hCollecting scipy>=1.4.1\n",
            "\u001b[?25l  Downloading https://files.pythonhosted.org/packages/7d/e8/43ffca541d2f208d516296950b25fe1084b35c2881f4d444c1346ca75815/scipy-1.6.3-cp37-cp37m-manylinux1_x86_64.whl (27.4MB)\n",
            "\u001b[K     |████████████████████████████████| 27.4MB 110kB/s \n",
            "\u001b[?25hCollecting seaborn>=0.10.1\n",
            "\u001b[?25l  Downloading https://files.pythonhosted.org/packages/68/ad/6c2406ae175f59ec616714e408979b674fe27b9587f79d59a528ddfbcd5b/seaborn-0.11.1-py3-none-any.whl (285kB)\n",
            "\u001b[K     |████████████████████████████████| 286kB 35.6MB/s \n",
            "\u001b[?25hCollecting pydantic>=1.8.1\n",
            "\u001b[?25l  Downloading https://files.pythonhosted.org/packages/9f/f2/2d5425efe57f6c4e06cbe5e587c1fd16929dcf0eb90bd4d3d1e1c97d1151/pydantic-1.8.2-cp37-cp37m-manylinux2014_x86_64.whl (10.1MB)\n",
            "\u001b[K     |████████████████████████████████| 10.1MB 29.0MB/s \n",
            "\u001b[?25hCollecting phik>=0.11.1\n",
            "\u001b[?25l  Downloading https://files.pythonhosted.org/packages/b7/ce/193e8ddf62d4be643b9b4b20e8e9c63b2f6a20f92778c0410c629f89bdaa/phik-0.11.2.tar.gz (1.1MB)\n",
            "\u001b[K     |████████████████████████████████| 1.1MB 30.7MB/s \n",
            "\u001b[?25hCollecting pyparsing>=2.2.1\n",
            "\u001b[?25l  Downloading https://files.pythonhosted.org/packages/8a/bb/488841f56197b13700afd5658fc279a2025a39e22449b7cf29864669b15d/pyparsing-2.4.7-py2.py3-none-any.whl (67kB)\n",
            "\u001b[K     |████████████████████████████████| 71kB 7.9MB/s \n",
            "\u001b[?25hCollecting pillow>=6.2.0\n",
            "\u001b[?25l  Downloading https://files.pythonhosted.org/packages/33/34/542152297dcc6c47a9dcb0685eac6d652d878ed3cea83bf2b23cb988e857/Pillow-8.2.0-cp37-cp37m-manylinux1_x86_64.whl (3.0MB)\n",
            "\u001b[K     |████████████████████████████████| 3.0MB 26.7MB/s \n",
            "\u001b[?25hCollecting python-dateutil>=2.7\n",
            "\u001b[?25l  Downloading https://files.pythonhosted.org/packages/d4/70/d60450c3dd48ef87586924207ae8907090de0b306af2bce5d134d78615cb/python_dateutil-2.8.1-py2.py3-none-any.whl (227kB)\n",
            "\u001b[K     |████████████████████████████████| 235kB 31.9MB/s \n",
            "\u001b[?25hCollecting kiwisolver>=1.0.1\n",
            "\u001b[?25l  Downloading https://files.pythonhosted.org/packages/d2/46/231de802ade4225b76b96cffe419cf3ce52bbe92e3b092cf12db7d11c207/kiwisolver-1.3.1-cp37-cp37m-manylinux1_x86_64.whl (1.1MB)\n",
            "\u001b[K     |████████████████████████████████| 1.1MB 22.8MB/s \n",
            "\u001b[?25hCollecting cycler>=0.10\n",
            "  Downloading https://files.pythonhosted.org/packages/f7/d2/e07d3ebb2bd7af696440ce7e754c59dd546ffe1bbe732c8ab68b9c834e61/cycler-0.10.0-py2.py3-none-any.whl\n",
            "Collecting MarkupSafe>=2.0\n",
            "  Downloading https://files.pythonhosted.org/packages/ad/cd/650b1be2a81674939ef962b1f1b956e4a84116d69708c842667445e95408/MarkupSafe-2.0.1-cp37-cp37m-manylinux2010_x86_64.whl\n",
            "Collecting certifi>=2017.4.17\n",
            "\u001b[?25l  Downloading https://files.pythonhosted.org/packages/5e/a0/5f06e1e1d463903cf0c0eebeb751791119ed7a4b3737fdc9a77f1cdfb51f/certifi-2020.12.5-py2.py3-none-any.whl (147kB)\n",
            "\u001b[K     |████████████████████████████████| 153kB 42.6MB/s \n",
            "\u001b[?25hCollecting urllib3<1.27,>=1.21.1\n",
            "\u001b[?25l  Downloading https://files.pythonhosted.org/packages/09/c6/d3e3abe5b4f4f16cf0dfc9240ab7ce10c2baa0e268989a4e3ec19e90c84e/urllib3-1.26.4-py2.py3-none-any.whl (153kB)\n",
            "\u001b[K     |████████████████████████████████| 153kB 15.1MB/s \n",
            "\u001b[?25hCollecting chardet<5,>=3.0.2\n",
            "\u001b[?25l  Downloading https://files.pythonhosted.org/packages/19/c7/fa589626997dd07bd87d9269342ccb74b1720384a4d739a1872bd84fbe68/chardet-4.0.0-py2.py3-none-any.whl (178kB)\n",
            "\u001b[K     |████████████████████████████████| 184kB 41.7MB/s \n",
            "\u001b[?25hCollecting idna<3,>=2.5\n",
            "\u001b[?25l  Downloading https://files.pythonhosted.org/packages/a2/38/928ddce2273eaa564f6f50de919327bf3a00f091b5baba8dfa9460f3a8a8/idna-2.10-py2.py3-none-any.whl (58kB)\n",
            "\u001b[K     |████████████████████████████████| 61kB 7.9MB/s \n",
            "\u001b[?25hCollecting pytz>=2017.3\n",
            "\u001b[?25l  Downloading https://files.pythonhosted.org/packages/70/94/784178ca5dd892a98f113cdd923372024dc04b8d40abe77ca76b5fb90ca6/pytz-2021.1-py2.py3-none-any.whl (510kB)\n",
            "\u001b[K     |████████████████████████████████| 512kB 30.6MB/s \n",
            "\u001b[?25hCollecting networkx>=2.4\n",
            "\u001b[?25l  Downloading https://files.pythonhosted.org/packages/f3/b7/c7f488101c0bb5e4178f3cde416004280fd40262433496830de8a8c21613/networkx-2.5.1-py3-none-any.whl (1.6MB)\n",
            "\u001b[K     |████████████████████████████████| 1.6MB 25.7MB/s \n",
            "\u001b[?25hCollecting multimethod==1.4\n",
            "  Downloading https://files.pythonhosted.org/packages/7a/d0/ce5ad0392aa12645b7ad91a5983d6b625b704b021d9cd48c587630c1a9ac/multimethod-1.4-py2.py3-none-any.whl\n",
            "Collecting bottleneck\n",
            "\u001b[?25l  Downloading https://files.pythonhosted.org/packages/5b/08/278c6ee569458e168096f6b51019cc1c81c288da3d1026a22ee2ccead102/Bottleneck-1.3.2.tar.gz (88kB)\n",
            "\u001b[K     |████████████████████████████████| 92kB 10.3MB/s \n",
            "\u001b[?25h  Installing build dependencies ... \u001b[?25l\u001b[?25hdone\n",
            "  Getting requirements to build wheel ... \u001b[?25l\u001b[?25hdone\n",
            "    Preparing wheel metadata ... \u001b[?25l\u001b[?25hdone\n",
            "Collecting attrs>=19.3.0\n",
            "\u001b[?25l  Downloading https://files.pythonhosted.org/packages/20/a9/ba6f1cd1a1517ff022b35acd6a7e4246371dfab08b8e42b829b6d07913cc/attrs-21.2.0-py2.py3-none-any.whl (53kB)\n",
            "\u001b[K     |████████████████████████████████| 61kB 339kB/s \n",
            "\u001b[?25hCollecting imagehash; extra == \"type_image_path\"\n",
            "\u001b[?25l  Downloading https://files.pythonhosted.org/packages/8e/18/9dbb772b5ef73a3069c66bb5bf29b9fb4dd57af0d5790c781c3f559bcca6/ImageHash-4.2.0-py2.py3-none-any.whl (295kB)\n",
            "\u001b[K     |████████████████████████████████| 296kB 23.5MB/s \n",
            "\u001b[?25hCollecting typing-extensions>=3.7.4.3\n",
            "  Downloading https://files.pythonhosted.org/packages/2e/35/6c4fff5ab443b57116cb1aad46421fb719bed2825664e8fe77d66d99bcbc/typing_extensions-3.10.0.0-py3-none-any.whl\n",
            "Collecting six>=1.5\n",
            "  Downloading https://files.pythonhosted.org/packages/d9/5a/e7c31adbe875f2abbb91bd84cf2dc52d792b5a01506781dbcf25c91daf11/six-1.16.0-py2.py3-none-any.whl\n",
            "Collecting decorator<5,>=4.3\n",
            "  Downloading https://files.pythonhosted.org/packages/ed/1b/72a1821152d07cf1d8b6fce298aeb06a7eb90f4d6d41acec9861e7cc6df0/decorator-4.4.2-py2.py3-none-any.whl\n",
            "Collecting PyWavelets\n",
            "\u001b[?25l  Downloading https://files.pythonhosted.org/packages/62/bd/592c7242fdd1218a96431512e77265c50812315ef72570ace85e1cfae298/PyWavelets-1.1.1-cp37-cp37m-manylinux1_x86_64.whl (4.4MB)\n",
            "\u001b[K     |████████████████████████████████| 4.4MB 30.0MB/s \n",
            "\u001b[?25hBuilding wheels for collected packages: bottleneck\n",
            "  Building wheel for bottleneck (PEP 517) ... \u001b[?25l\u001b[?25hdone\n",
            "  Created wheel for bottleneck: filename=Bottleneck-1.3.2-cp37-cp37m-linux_x86_64.whl size=334752 sha256=875efe40cbc95e3642fc244d034858bbeaf1d33d69fcd00069c60ab753ae228b\n",
            "  Stored in directory: /root/.cache/pip/wheels/97/a9/12/41b13e8b44889ab05ec4dcc91f27da21634bacf2a0e87473b8\n",
            "Successfully built bottleneck\n",
            "Building wheels for collected packages: htmlmin, phik\n",
            "  Building wheel for htmlmin (setup.py) ... \u001b[?25l\u001b[?25hdone\n",
            "  Created wheel for htmlmin: filename=htmlmin-0.1.12-cp37-none-any.whl size=27085 sha256=875b6e821b8235223d55fe3b92660bf74d619424d7390975ad49141023772c2f\n",
            "  Stored in directory: /root/.cache/pip/wheels/43/07/ac/7c5a9d708d65247ac1f94066cf1db075540b85716c30255459\n",
            "  Building wheel for phik (setup.py) ... \u001b[?25l\u001b[?25hdone\n",
            "  Created wheel for phik: filename=phik-0.11.2-cp37-none-any.whl size=1107413 sha256=9ea45f10d448d09840a9e90b1bf2a23849698f5af9698d0f9468648e346a6526\n",
            "  Stored in directory: /root/.cache/pip/wheels/c0/a3/b0/f27b1cfe32ea131a3715169132ff6d85653789e80e966c3bf6\n",
            "Successfully built htmlmin phik\n",
            "\u001b[31mERROR: tensorflow-probability 0.12.1 has requirement gast>=0.3.2, but you'll have gast 0.2.2 which is incompatible.\u001b[0m\n",
            "\u001b[31mERROR: httpx 0.13.3 has requirement chardet==3.*, but you'll have chardet 4.0.0 which is incompatible.\u001b[0m\n",
            "\u001b[31mERROR: google-colab 1.0.0 has requirement pandas~=1.1.0; python_version >= \"3.0\", but you'll have pandas 1.2.4 which is incompatible.\u001b[0m\n",
            "\u001b[31mERROR: google-colab 1.0.0 has requirement requests~=2.23.0, but you'll have requests 2.25.1 which is incompatible.\u001b[0m\n",
            "\u001b[31mERROR: google-colab 1.0.0 has requirement six~=1.15.0, but you'll have six 1.16.0 which is incompatible.\u001b[0m\n",
            "\u001b[31mERROR: datascience 0.10.6 has requirement folium==0.2.1, but you'll have folium 0.8.3 which is incompatible.\u001b[0m\n",
            "\u001b[31mERROR: albumentations 0.1.12 has requirement imgaug<0.2.7,>=0.2.5, but you'll have imgaug 0.2.9 which is incompatible.\u001b[0m\n",
            "Installing collected packages: pyparsing, pillow, six, python-dateutil, numpy, kiwisolver, cycler, matplotlib, scipy, pytz, pandas, seaborn, missingno, MarkupSafe, jinja2, htmlmin, certifi, urllib3, chardet, idna, requests, joblib, tqdm, PyYAML, decorator, networkx, multimethod, tangled-up-in-unicode, bottleneck, attrs, PyWavelets, imagehash, visions, typing-extensions, pydantic, phik, pandas-profiling\n",
            "Successfully installed MarkupSafe-2.0.1 PyWavelets-1.1.1 PyYAML-5.4.1 attrs-21.2.0 bottleneck-1.3.2 certifi-2020.12.5 chardet-4.0.0 cycler-0.10.0 decorator-4.4.2 htmlmin-0.1.12 idna-2.10 imagehash-4.2.0 jinja2-3.0.1 joblib-1.0.1 kiwisolver-1.3.1 matplotlib-3.4.2 missingno-0.4.2 multimethod-1.4 networkx-2.5.1 numpy-1.20.3 pandas-1.2.4 pandas-profiling-3.0.0 phik-0.11.2 pillow-8.2.0 pydantic-1.8.2 pyparsing-2.4.7 python-dateutil-2.8.1 pytz-2021.1 requests-2.25.1 scipy-1.6.3 seaborn-0.11.1 six-1.16.0 tangled-up-in-unicode-0.1.0 tqdm-4.60.0 typing-extensions-3.10.0.0 urllib3-1.26.4 visions-0.7.1\n"
          ],
          "name": "stdout"
        },
        {
          "output_type": "display_data",
          "data": {
            "application/vnd.colab-display-data+json": {
              "pip_warning": {
                "packages": [
                  "PIL",
                  "bottleneck",
                  "certifi",
                  "chardet",
                  "cycler",
                  "dateutil",
                  "decorator",
                  "idna",
                  "joblib",
                  "kiwisolver",
                  "matplotlib",
                  "mpl_toolkits",
                  "numpy",
                  "pandas",
                  "pylab",
                  "pyparsing",
                  "pytz",
                  "requests",
                  "scipy",
                  "seaborn",
                  "six",
                  "tqdm",
                  "typing_extensions",
                  "urllib3",
                  "yaml"
                ]
              }
            }
          },
          "metadata": {
            "tags": []
          }
        }
      ]
    },
    {
      "cell_type": "markdown",
      "metadata": {
        "id": "fl2bdnBfu5wE"
      },
      "source": [
        "Restart the kernel before computing the following cell"
      ]
    },
    {
      "cell_type": "code",
      "metadata": {
        "id": "UwMfiYQWgA5v",
        "colab": {
          "base_uri": "https://localhost:8080/"
        },
        "outputId": "0a976839-346b-435c-fd51-ea03311b411c"
      },
      "source": [
        "import tensorflow as tf\n",
        "print(tf.__version__)"
      ],
      "execution_count": 1,
      "outputs": [
        {
          "output_type": "stream",
          "text": [
            "1.15.0\n"
          ],
          "name": "stdout"
        }
      ]
    },
    {
      "cell_type": "code",
      "metadata": {
        "id": "U3_bIM_P79Nv",
        "colab": {
          "base_uri": "https://localhost:8080/"
        },
        "outputId": "b5e9ae3b-98e0-4d26-850e-1ebfbd827aa1"
      },
      "source": [
        "import warnings\n",
        "warnings.filterwarnings('ignore')\n",
        "\n",
        "import os\n",
        "import datetime\n",
        "import pandas as pd\n",
        "import numpy as np\n",
        "\n",
        "from pandas_profiling import ProfileReport\n",
        "\n",
        "import re\n",
        "import nltk \n",
        "nltk.download('stopwords')\n",
        "from nltk.corpus import stopwords\n",
        "from nltk.stem.wordnet import WordNetLemmatizer\n",
        "from spellchecker import SpellChecker\n",
        "\n",
        "from tqdm.auto import tqdm\n",
        "from tqdm import tqdm_notebook\n",
        "\n",
        "from IPython.display import display, Markdown, clear_output\n",
        "from termcolor import colored\n",
        "import matplotlib.pyplot as plt\n",
        "\n",
        "import plotly.graph_objects as go\n",
        "from plotly.offline import plot, iplot\n",
        "from plotly.subplots import make_subplots\n",
        "import plotly.io as pio\n",
        "pio.renderers.default = \"notebook\"\n",
        "\n",
        "import tensorflow as tf\n",
        "import tensorflow_hub as hub\n",
        "import tensorflow.keras.layers as layers\n",
        "from tensorflow.keras.models import Model\n",
        "from tensorflow.keras import backend as K\n",
        "import tensorflow.keras\n",
        "from tensorflow.keras.models import load_model"
      ],
      "execution_count": 2,
      "outputs": [
        {
          "output_type": "stream",
          "text": [
            "[nltk_data] Downloading package stopwords to /root/nltk_data...\n",
            "[nltk_data]   Package stopwords is already up-to-date!\n"
          ],
          "name": "stdout"
        }
      ]
    },
    {
      "cell_type": "code",
      "metadata": {
        "id": "rJr8JmKt8Ja-"
      },
      "source": [
        "def train_validate_test_split(df, train_percent=.6, validate_percent=.2, seed=369):\n",
        "    np.random.seed(seed)\n",
        "    perm = np.random.permutation(df.index)\n",
        "    m = len(df.index)\n",
        "    train_end = int(train_percent * m)\n",
        "    validate_end = int(validate_percent * m) + train_end\n",
        "    train = df.loc[perm[:train_end]]\n",
        "    validate = df.loc[perm[train_end:validate_end]]\n",
        "    test = df.loc[perm[validate_end:]]\n",
        "    return train, validate, test"
      ],
      "execution_count": 11,
      "outputs": []
    },
    {
      "cell_type": "code",
      "metadata": {
        "colab": {
          "base_uri": "https://localhost:8080/",
          "height": 191
        },
        "id": "hH4lHC5F8koS",
        "outputId": "fddc9898-279a-4ab3-ee0d-1d22fdf6fd67"
      },
      "source": [
        "data.sentiment = data.sentiment.map(sentiment_changer)\n",
        "data.head()"
      ],
      "execution_count": 27,
      "outputs": [
        {
          "output_type": "execute_result",
          "data": {
            "text/html": [
              "<div>\n",
              "<style scoped>\n",
              "    .dataframe tbody tr th:only-of-type {\n",
              "        vertical-align: middle;\n",
              "    }\n",
              "\n",
              "    .dataframe tbody tr th {\n",
              "        vertical-align: top;\n",
              "    }\n",
              "\n",
              "    .dataframe thead th {\n",
              "        text-align: right;\n",
              "    }\n",
              "</style>\n",
              "<table border=\"1\" class=\"dataframe\">\n",
              "  <thead>\n",
              "    <tr style=\"text-align: right;\">\n",
              "      <th></th>\n",
              "      <th>sentiment</th>\n",
              "      <th>text</th>\n",
              "    </tr>\n",
              "  </thead>\n",
              "  <tbody>\n",
              "    <tr>\n",
              "      <th>0</th>\n",
              "      <td>0</td>\n",
              "      <td>according gran company plans move production r...</td>\n",
              "    </tr>\n",
              "    <tr>\n",
              "      <th>1</th>\n",
              "      <td>0</td>\n",
              "      <td>technopolis plans develop stages area less 100...</td>\n",
              "    </tr>\n",
              "    <tr>\n",
              "      <th>2</th>\n",
              "      <td>1</td>\n",
              "      <td>international electronic industry company elco...</td>\n",
              "    </tr>\n",
              "    <tr>\n",
              "      <th>3</th>\n",
              "      <td>2</td>\n",
              "      <td>new production plant company would increase ca...</td>\n",
              "    </tr>\n",
              "    <tr>\n",
              "      <th>4</th>\n",
              "      <td>2</td>\n",
              "      <td>according company updated strategy years 20092...</td>\n",
              "    </tr>\n",
              "  </tbody>\n",
              "</table>\n",
              "</div>"
            ],
            "text/plain": [
              "   sentiment                                               text\n",
              "0          0  according gran company plans move production r...\n",
              "1          0  technopolis plans develop stages area less 100...\n",
              "2          1  international electronic industry company elco...\n",
              "3          2  new production plant company would increase ca...\n",
              "4          2  according company updated strategy years 20092..."
            ]
          },
          "metadata": {
            "tags": []
          },
          "execution_count": 27
        }
      ]
    },
    {
      "cell_type": "code",
      "metadata": {
        "id": "dSPq97MHnRdI",
        "colab": {
          "base_uri": "https://localhost:8080/"
        },
        "outputId": "2b84f5b1-df25-4b75-b396-f0368540df69"
      },
      "source": [
        "train_df, val_df, test_df = train_validate_test_split(data)\n",
        "\n",
        "print('Train: {}, Validation: {}, Test: {}'.format(train_df.shape, val_df.shape, test_df.shape))\n",
        "\n",
        "train_text = train_df['text'].tolist()\n",
        "train_text = np.array(train_text, dtype=object)[:, np.newaxis]\n",
        "train_label = np.asarray(pd.get_dummies(train_df['sentiment']), dtype = np.int8)\n",
        "\n",
        "val_text = val_df['text'].tolist()\n",
        "val_text = np.array(val_text, dtype=object)[:, np.newaxis]\n",
        "val_label = np.asarray(pd.get_dummies(val_df['sentiment']), dtype = np.int8)\n",
        "\n",
        "test_text = test_df['text'].tolist()\n",
        "test_text = np.array(test_text, dtype=object)[:, np.newaxis]\n",
        "test_label = np.asarray(pd.get_dummies(test_df['sentiment']), dtype = np.int8)"
      ],
      "execution_count": 12,
      "outputs": [
        {
          "output_type": "stream",
          "text": [
            "Train: (2904, 2), Validation: (968, 2), Test: (968, 2)\n"
          ],
          "name": "stdout"
        }
      ]
    },
    {
      "cell_type": "markdown",
      "metadata": {
        "id": "uzSZU8AblSRn"
      },
      "source": [
        "Here we would use a Pre-trained Embedding model. This latter is trained and optimized for greater-than-word length text, such as sentences, phrases or short paragraphs. It takes variable length English text as input and outputs a 512-dimensional vector. "
      ]
    },
    {
      "cell_type": "code",
      "metadata": {
        "id": "VE2lUsGVaJYn",
        "colab": {
          "base_uri": "https://localhost:8080/"
        },
        "outputId": "cb55ef43-5c42-40b9-a752-bb7cd75a1b59"
      },
      "source": [
        "#embed = hub.Module(\"https://tfhub.dev/google/universal-sentence-encoder/2\")\n",
        "embed = hub.Module(\"https://tfhub.dev/google/universal-sentence-encoder/1\")\n",
        "\n",
        "embed_size = embed.get_output_info_dict()['default'].get_shape()[1].value\n",
        "print(\"Embedding size: \",embed_size)"
      ],
      "execution_count": 13,
      "outputs": [
        {
          "output_type": "stream",
          "text": [
            "Embedding size:  512\n"
          ],
          "name": "stdout"
        }
      ]
    },
    {
      "cell_type": "code",
      "metadata": {
        "id": "w1BS4_HX5mSX",
        "colab": {
          "base_uri": "https://localhost:8080/"
        },
        "outputId": "d1f77c37-7902-40a1-8a35-78190654f615"
      },
      "source": [
        "def UniversalEmbedding(x):\n",
        "    return embed(tf.squeeze(tf.cast(x, tf.string)), \n",
        "                 signature=\"default\", as_dict=True)[\"default\"]\n",
        "\n",
        "category_counts = 3\n",
        "input_text = layers.Input(shape=(1,), dtype=\"string\")\n",
        "embedding = layers.Lambda(UniversalEmbedding, output_shape=(embed_size,))(input_text)\n",
        "x = layers.Dense(256, activation='relu')(embedding)\n",
        "x = layers.Dropout(0.7)(x)\n",
        "x = layers.Dense(128, activation='relu')(x)\n",
        "x = layers.Dropout(0.5)(x)\n",
        "x = layers.Dense(category_counts, activation='softmax')(x)\n",
        "\n",
        "model_sa = Model(inputs=[input_text], outputs=x)\n",
        "\n",
        "# we are selecting Adam optimizer \n",
        "opt = tensorflow.keras.optimizers.Adam(learning_rate=0.0001)\n",
        "\n",
        "model_sa.compile(loss='categorical_crossentropy', optimizer=opt, metrics=['accuracy'])\n",
        "model_sa.summary()"
      ],
      "execution_count": 14,
      "outputs": [
        {
          "output_type": "stream",
          "text": [
            "INFO:tensorflow:Saver not created because there are no variables in the graph to restore\n"
          ],
          "name": "stdout"
        },
        {
          "output_type": "stream",
          "text": [
            "INFO:tensorflow:Saver not created because there are no variables in the graph to restore\n"
          ],
          "name": "stderr"
        },
        {
          "output_type": "stream",
          "text": [
            "WARNING:tensorflow:From /usr/local/lib/python3.7/dist-packages/tensorflow_core/python/ops/resource_variable_ops.py:1630: calling BaseResourceVariable.__init__ (from tensorflow.python.ops.resource_variable_ops) with constraint is deprecated and will be removed in a future version.\n",
            "Instructions for updating:\n",
            "If using Keras pass *_constraint arguments to layers.\n"
          ],
          "name": "stdout"
        },
        {
          "output_type": "stream",
          "text": [
            "WARNING:tensorflow:From /usr/local/lib/python3.7/dist-packages/tensorflow_core/python/ops/resource_variable_ops.py:1630: calling BaseResourceVariable.__init__ (from tensorflow.python.ops.resource_variable_ops) with constraint is deprecated and will be removed in a future version.\n",
            "Instructions for updating:\n",
            "If using Keras pass *_constraint arguments to layers.\n"
          ],
          "name": "stderr"
        },
        {
          "output_type": "stream",
          "text": [
            "WARNING:tensorflow:Large dropout rate: 0.7 (>0.5). In TensorFlow 2.x, dropout() uses dropout rate instead of keep_prob. Please ensure that this is intended.\n"
          ],
          "name": "stdout"
        },
        {
          "output_type": "stream",
          "text": [
            "WARNING:tensorflow:Large dropout rate: 0.7 (>0.5). In TensorFlow 2.x, dropout() uses dropout rate instead of keep_prob. Please ensure that this is intended.\n"
          ],
          "name": "stderr"
        },
        {
          "output_type": "stream",
          "text": [
            "Model: \"model\"\n",
            "_________________________________________________________________\n",
            "Layer (type)                 Output Shape              Param #   \n",
            "=================================================================\n",
            "input_1 (InputLayer)         [(None, 1)]               0         \n",
            "_________________________________________________________________\n",
            "lambda (Lambda)              (None, 512)               0         \n",
            "_________________________________________________________________\n",
            "dense (Dense)                (None, 256)               131328    \n",
            "_________________________________________________________________\n",
            "dropout (Dropout)            (None, 256)               0         \n",
            "_________________________________________________________________\n",
            "dense_1 (Dense)              (None, 128)               32896     \n",
            "_________________________________________________________________\n",
            "dropout_1 (Dropout)          (None, 128)               0         \n",
            "_________________________________________________________________\n",
            "dense_2 (Dense)              (None, 3)                 387       \n",
            "=================================================================\n",
            "Total params: 164,611\n",
            "Trainable params: 164,611\n",
            "Non-trainable params: 0\n",
            "_________________________________________________________________\n"
          ],
          "name": "stdout"
        }
      ]
    },
    {
      "cell_type": "code",
      "metadata": {
        "id": "OKasEbHrWZte",
        "colab": {
          "base_uri": "https://localhost:8080/"
        },
        "outputId": "379fa5e2-9ddc-412d-9a33-2b47d746677b"
      },
      "source": [
        "with tf.Session() as session:\n",
        "    K.set_session(session)\n",
        "    session.run(tf.global_variables_initializer())\n",
        "    session.run(tf.tables_initializer())\n",
        "    history = model_sa.fit(train_text, train_label,\n",
        "                            validation_data=(val_text, val_label),\n",
        "                            epochs=100,\n",
        "                            batch_size=32,\n",
        "                            shuffle=True)\n",
        "    model_sa.save_weights('best_model.h5')"
      ],
      "execution_count": 16,
      "outputs": [
        {
          "output_type": "stream",
          "text": [
            "Train on 2904 samples, validate on 968 samples\n",
            "Epoch 1/100\n",
            "2904/2904 [==============================] - 4s 1ms/sample - loss: 1.0480 - acc: 0.5100 - val_loss: 0.9834 - val_acc: 0.6002\n",
            "Epoch 2/100\n",
            "2904/2904 [==============================] - 1s 480us/sample - loss: 0.9561 - acc: 0.5902 - val_loss: 0.9154 - val_acc: 0.6002\n",
            "Epoch 3/100\n",
            "2904/2904 [==============================] - 1s 476us/sample - loss: 0.9160 - acc: 0.5913 - val_loss: 0.8854 - val_acc: 0.6002\n",
            "Epoch 4/100\n",
            "2904/2904 [==============================] - 1s 483us/sample - loss: 0.8922 - acc: 0.5923 - val_loss: 0.8626 - val_acc: 0.6002\n",
            "Epoch 5/100\n",
            "2904/2904 [==============================] - 1s 491us/sample - loss: 0.8699 - acc: 0.5961 - val_loss: 0.8421 - val_acc: 0.6023\n",
            "Epoch 6/100\n",
            "2904/2904 [==============================] - 1s 477us/sample - loss: 0.8483 - acc: 0.6064 - val_loss: 0.8250 - val_acc: 0.6157\n",
            "Epoch 7/100\n",
            "2904/2904 [==============================] - 1s 488us/sample - loss: 0.8318 - acc: 0.6078 - val_loss: 0.8096 - val_acc: 0.6374\n",
            "Epoch 8/100\n",
            "2904/2904 [==============================] - 1s 472us/sample - loss: 0.8228 - acc: 0.6257 - val_loss: 0.7961 - val_acc: 0.6426\n",
            "Epoch 9/100\n",
            "2904/2904 [==============================] - 1s 480us/sample - loss: 0.8090 - acc: 0.6284 - val_loss: 0.7847 - val_acc: 0.6488\n",
            "Epoch 10/100\n",
            "2904/2904 [==============================] - 1s 486us/sample - loss: 0.7914 - acc: 0.6315 - val_loss: 0.7738 - val_acc: 0.6529\n",
            "Epoch 11/100\n",
            "2904/2904 [==============================] - 1s 481us/sample - loss: 0.7872 - acc: 0.6439 - val_loss: 0.7635 - val_acc: 0.6508\n",
            "Epoch 12/100\n",
            "2904/2904 [==============================] - 1s 487us/sample - loss: 0.7807 - acc: 0.6481 - val_loss: 0.7556 - val_acc: 0.6581\n",
            "Epoch 13/100\n",
            "2904/2904 [==============================] - 1s 504us/sample - loss: 0.7679 - acc: 0.6594 - val_loss: 0.7466 - val_acc: 0.6694\n",
            "Epoch 14/100\n",
            "2904/2904 [==============================] - 1s 482us/sample - loss: 0.7645 - acc: 0.6529 - val_loss: 0.7405 - val_acc: 0.6787\n",
            "Epoch 15/100\n",
            "2904/2904 [==============================] - 1s 477us/sample - loss: 0.7588 - acc: 0.6522 - val_loss: 0.7333 - val_acc: 0.6777\n",
            "Epoch 16/100\n",
            "2904/2904 [==============================] - 1s 488us/sample - loss: 0.7457 - acc: 0.6605 - val_loss: 0.7264 - val_acc: 0.6849\n",
            "Epoch 17/100\n",
            "2904/2904 [==============================] - 1s 498us/sample - loss: 0.7444 - acc: 0.6643 - val_loss: 0.7212 - val_acc: 0.6911\n",
            "Epoch 18/100\n",
            "2904/2904 [==============================] - 1s 488us/sample - loss: 0.7347 - acc: 0.6753 - val_loss: 0.7159 - val_acc: 0.6994\n",
            "Epoch 19/100\n",
            "2904/2904 [==============================] - 1s 495us/sample - loss: 0.7336 - acc: 0.6784 - val_loss: 0.7134 - val_acc: 0.6973\n",
            "Epoch 20/100\n",
            "2904/2904 [==============================] - 1s 503us/sample - loss: 0.7205 - acc: 0.6818 - val_loss: 0.7080 - val_acc: 0.7087\n",
            "Epoch 21/100\n",
            "2904/2904 [==============================] - 1s 493us/sample - loss: 0.7109 - acc: 0.6818 - val_loss: 0.7034 - val_acc: 0.6994\n",
            "Epoch 22/100\n",
            "2904/2904 [==============================] - 2s 517us/sample - loss: 0.7197 - acc: 0.6746 - val_loss: 0.7003 - val_acc: 0.7004\n",
            "Epoch 23/100\n",
            "2904/2904 [==============================] - 1s 490us/sample - loss: 0.7137 - acc: 0.6753 - val_loss: 0.6968 - val_acc: 0.7004\n",
            "Epoch 24/100\n",
            "2904/2904 [==============================] - 1s 480us/sample - loss: 0.7042 - acc: 0.6877 - val_loss: 0.6932 - val_acc: 0.7014\n",
            "Epoch 25/100\n",
            "2904/2904 [==============================] - 1s 490us/sample - loss: 0.6993 - acc: 0.6921 - val_loss: 0.6900 - val_acc: 0.7118\n",
            "Epoch 26/100\n",
            "2904/2904 [==============================] - 1s 486us/sample - loss: 0.6910 - acc: 0.7008 - val_loss: 0.6865 - val_acc: 0.7097\n",
            "Epoch 27/100\n",
            "2904/2904 [==============================] - 1s 484us/sample - loss: 0.7034 - acc: 0.6966 - val_loss: 0.6861 - val_acc: 0.7087\n",
            "Epoch 28/100\n",
            "2904/2904 [==============================] - 1s 463us/sample - loss: 0.6835 - acc: 0.6956 - val_loss: 0.6835 - val_acc: 0.7097\n",
            "Epoch 29/100\n",
            "2904/2904 [==============================] - 1s 470us/sample - loss: 0.6831 - acc: 0.6932 - val_loss: 0.6831 - val_acc: 0.7097\n",
            "Epoch 30/100\n",
            "2904/2904 [==============================] - 1s 474us/sample - loss: 0.6829 - acc: 0.7004 - val_loss: 0.6781 - val_acc: 0.7087\n",
            "Epoch 31/100\n",
            "2904/2904 [==============================] - 1s 504us/sample - loss: 0.6734 - acc: 0.6980 - val_loss: 0.6789 - val_acc: 0.7107\n",
            "Epoch 32/100\n",
            "2904/2904 [==============================] - 1s 485us/sample - loss: 0.6696 - acc: 0.7073 - val_loss: 0.6797 - val_acc: 0.7087\n",
            "Epoch 33/100\n",
            "2904/2904 [==============================] - 1s 486us/sample - loss: 0.6689 - acc: 0.7118 - val_loss: 0.6757 - val_acc: 0.7211\n",
            "Epoch 34/100\n",
            "2904/2904 [==============================] - 1s 492us/sample - loss: 0.6687 - acc: 0.7032 - val_loss: 0.6743 - val_acc: 0.7138\n",
            "Epoch 35/100\n",
            "2904/2904 [==============================] - 1s 482us/sample - loss: 0.6612 - acc: 0.7166 - val_loss: 0.6733 - val_acc: 0.7231\n",
            "Epoch 36/100\n",
            "2904/2904 [==============================] - 1s 479us/sample - loss: 0.6594 - acc: 0.7190 - val_loss: 0.6716 - val_acc: 0.7169\n",
            "Epoch 37/100\n",
            "2904/2904 [==============================] - 1s 488us/sample - loss: 0.6647 - acc: 0.7059 - val_loss: 0.6705 - val_acc: 0.7242\n",
            "Epoch 38/100\n",
            "2904/2904 [==============================] - 1s 489us/sample - loss: 0.6585 - acc: 0.7114 - val_loss: 0.6699 - val_acc: 0.7262\n",
            "Epoch 39/100\n",
            "2904/2904 [==============================] - 1s 476us/sample - loss: 0.6478 - acc: 0.7194 - val_loss: 0.6687 - val_acc: 0.7242\n",
            "Epoch 40/100\n",
            "2904/2904 [==============================] - 1s 487us/sample - loss: 0.6539 - acc: 0.7138 - val_loss: 0.6737 - val_acc: 0.7190\n",
            "Epoch 41/100\n",
            "2904/2904 [==============================] - 1s 482us/sample - loss: 0.6487 - acc: 0.7145 - val_loss: 0.6681 - val_acc: 0.7180\n",
            "Epoch 42/100\n",
            "2904/2904 [==============================] - 1s 478us/sample - loss: 0.6424 - acc: 0.7256 - val_loss: 0.6670 - val_acc: 0.7211\n",
            "Epoch 43/100\n",
            "2904/2904 [==============================] - 1s 493us/sample - loss: 0.6401 - acc: 0.7204 - val_loss: 0.6650 - val_acc: 0.7221\n",
            "Epoch 44/100\n",
            "2904/2904 [==============================] - 1s 476us/sample - loss: 0.6449 - acc: 0.7207 - val_loss: 0.6657 - val_acc: 0.7190\n",
            "Epoch 45/100\n",
            "2904/2904 [==============================] - 1s 504us/sample - loss: 0.6383 - acc: 0.7207 - val_loss: 0.6658 - val_acc: 0.7221\n",
            "Epoch 46/100\n",
            "2904/2904 [==============================] - 1s 491us/sample - loss: 0.6385 - acc: 0.7259 - val_loss: 0.6647 - val_acc: 0.7149\n",
            "Epoch 47/100\n",
            "2904/2904 [==============================] - 1s 491us/sample - loss: 0.6215 - acc: 0.7355 - val_loss: 0.6677 - val_acc: 0.7231\n",
            "Epoch 48/100\n",
            "2904/2904 [==============================] - 1s 497us/sample - loss: 0.6263 - acc: 0.7276 - val_loss: 0.6629 - val_acc: 0.7221\n",
            "Epoch 49/100\n",
            "2904/2904 [==============================] - 1s 490us/sample - loss: 0.6229 - acc: 0.7249 - val_loss: 0.6623 - val_acc: 0.7211\n",
            "Epoch 50/100\n",
            "2904/2904 [==============================] - 1s 498us/sample - loss: 0.6098 - acc: 0.7407 - val_loss: 0.6622 - val_acc: 0.7200\n",
            "Epoch 51/100\n",
            "2904/2904 [==============================] - 1s 498us/sample - loss: 0.6168 - acc: 0.7314 - val_loss: 0.6610 - val_acc: 0.7242\n",
            "Epoch 52/100\n",
            "2904/2904 [==============================] - 1s 506us/sample - loss: 0.6174 - acc: 0.7335 - val_loss: 0.6595 - val_acc: 0.7262\n",
            "Epoch 53/100\n",
            "2904/2904 [==============================] - 1s 480us/sample - loss: 0.6107 - acc: 0.7379 - val_loss: 0.6606 - val_acc: 0.7262\n",
            "Epoch 54/100\n",
            "2904/2904 [==============================] - 1s 497us/sample - loss: 0.6002 - acc: 0.7373 - val_loss: 0.6619 - val_acc: 0.7221\n",
            "Epoch 55/100\n",
            "2904/2904 [==============================] - 1s 485us/sample - loss: 0.6034 - acc: 0.7445 - val_loss: 0.6619 - val_acc: 0.7242\n",
            "Epoch 56/100\n",
            "2904/2904 [==============================] - 1s 491us/sample - loss: 0.6026 - acc: 0.7400 - val_loss: 0.6635 - val_acc: 0.7252\n",
            "Epoch 57/100\n",
            "2904/2904 [==============================] - 1s 499us/sample - loss: 0.5999 - acc: 0.7500 - val_loss: 0.6611 - val_acc: 0.7273\n",
            "Epoch 58/100\n",
            "2904/2904 [==============================] - 1s 488us/sample - loss: 0.6002 - acc: 0.7417 - val_loss: 0.6598 - val_acc: 0.7221\n",
            "Epoch 59/100\n",
            "2904/2904 [==============================] - 1s 493us/sample - loss: 0.5914 - acc: 0.7428 - val_loss: 0.6595 - val_acc: 0.7221\n",
            "Epoch 60/100\n",
            "2904/2904 [==============================] - 1s 488us/sample - loss: 0.5884 - acc: 0.7452 - val_loss: 0.6588 - val_acc: 0.7262\n",
            "Epoch 61/100\n",
            "2904/2904 [==============================] - 1s 488us/sample - loss: 0.5760 - acc: 0.7572 - val_loss: 0.6592 - val_acc: 0.7221\n",
            "Epoch 62/100\n",
            "2904/2904 [==============================] - 1s 493us/sample - loss: 0.5773 - acc: 0.7579 - val_loss: 0.6605 - val_acc: 0.7221\n",
            "Epoch 63/100\n",
            "2904/2904 [==============================] - 1s 476us/sample - loss: 0.5796 - acc: 0.7576 - val_loss: 0.6603 - val_acc: 0.7231\n",
            "Epoch 64/100\n",
            "2904/2904 [==============================] - 1s 501us/sample - loss: 0.5744 - acc: 0.7614 - val_loss: 0.6580 - val_acc: 0.7221\n",
            "Epoch 65/100\n",
            "2904/2904 [==============================] - 1s 515us/sample - loss: 0.5736 - acc: 0.7565 - val_loss: 0.6573 - val_acc: 0.7283\n",
            "Epoch 66/100\n",
            "2904/2904 [==============================] - 1s 479us/sample - loss: 0.5674 - acc: 0.7600 - val_loss: 0.6587 - val_acc: 0.7242\n",
            "Epoch 67/100\n",
            "2904/2904 [==============================] - 1s 493us/sample - loss: 0.5764 - acc: 0.7593 - val_loss: 0.6595 - val_acc: 0.7262\n",
            "Epoch 68/100\n",
            "2904/2904 [==============================] - 1s 509us/sample - loss: 0.5735 - acc: 0.7517 - val_loss: 0.6609 - val_acc: 0.7252\n",
            "Epoch 69/100\n",
            "2904/2904 [==============================] - 1s 496us/sample - loss: 0.5676 - acc: 0.7610 - val_loss: 0.6587 - val_acc: 0.7304\n",
            "Epoch 70/100\n",
            "2904/2904 [==============================] - 1s 495us/sample - loss: 0.5561 - acc: 0.7607 - val_loss: 0.6566 - val_acc: 0.7314\n",
            "Epoch 71/100\n",
            "2904/2904 [==============================] - 1s 507us/sample - loss: 0.5555 - acc: 0.7641 - val_loss: 0.6626 - val_acc: 0.7252\n",
            "Epoch 72/100\n",
            "2904/2904 [==============================] - 1s 501us/sample - loss: 0.5548 - acc: 0.7634 - val_loss: 0.6618 - val_acc: 0.7283\n",
            "Epoch 73/100\n",
            "2904/2904 [==============================] - 1s 503us/sample - loss: 0.5431 - acc: 0.7765 - val_loss: 0.6605 - val_acc: 0.7293\n",
            "Epoch 74/100\n",
            "2904/2904 [==============================] - 1s 501us/sample - loss: 0.5568 - acc: 0.7593 - val_loss: 0.6597 - val_acc: 0.7262\n",
            "Epoch 75/100\n",
            "2904/2904 [==============================] - 1s 490us/sample - loss: 0.5424 - acc: 0.7758 - val_loss: 0.6653 - val_acc: 0.7252\n",
            "Epoch 76/100\n",
            "2904/2904 [==============================] - 1s 492us/sample - loss: 0.5480 - acc: 0.7731 - val_loss: 0.6599 - val_acc: 0.7335\n",
            "Epoch 77/100\n",
            "2904/2904 [==============================] - 1s 495us/sample - loss: 0.5376 - acc: 0.7779 - val_loss: 0.6601 - val_acc: 0.7293\n",
            "Epoch 78/100\n",
            "2904/2904 [==============================] - 1s 491us/sample - loss: 0.5339 - acc: 0.7793 - val_loss: 0.6658 - val_acc: 0.7242\n",
            "Epoch 79/100\n",
            "2904/2904 [==============================] - 1s 503us/sample - loss: 0.5215 - acc: 0.7738 - val_loss: 0.6618 - val_acc: 0.7304\n",
            "Epoch 80/100\n",
            "2904/2904 [==============================] - 1s 503us/sample - loss: 0.5353 - acc: 0.7841 - val_loss: 0.6604 - val_acc: 0.7273\n",
            "Epoch 81/100\n",
            "2904/2904 [==============================] - 1s 503us/sample - loss: 0.5347 - acc: 0.7707 - val_loss: 0.6638 - val_acc: 0.7283\n",
            "Epoch 82/100\n",
            "2904/2904 [==============================] - 1s 487us/sample - loss: 0.5221 - acc: 0.7865 - val_loss: 0.6632 - val_acc: 0.7355\n",
            "Epoch 83/100\n",
            "2904/2904 [==============================] - 1s 490us/sample - loss: 0.5227 - acc: 0.7858 - val_loss: 0.6643 - val_acc: 0.7314\n",
            "Epoch 84/100\n",
            "2904/2904 [==============================] - 1s 497us/sample - loss: 0.5182 - acc: 0.7779 - val_loss: 0.6635 - val_acc: 0.7345\n",
            "Epoch 85/100\n",
            "2904/2904 [==============================] - 1s 493us/sample - loss: 0.5187 - acc: 0.7844 - val_loss: 0.6652 - val_acc: 0.7324\n",
            "Epoch 86/100\n",
            "2904/2904 [==============================] - 1s 495us/sample - loss: 0.5167 - acc: 0.7879 - val_loss: 0.6675 - val_acc: 0.7293\n",
            "Epoch 87/100\n",
            "2904/2904 [==============================] - 1s 511us/sample - loss: 0.5114 - acc: 0.7886 - val_loss: 0.6646 - val_acc: 0.7355\n",
            "Epoch 88/100\n",
            "2904/2904 [==============================] - 1s 496us/sample - loss: 0.5045 - acc: 0.7930 - val_loss: 0.6657 - val_acc: 0.7293\n",
            "Epoch 89/100\n",
            "2904/2904 [==============================] - 1s 497us/sample - loss: 0.5078 - acc: 0.7896 - val_loss: 0.6657 - val_acc: 0.7355\n",
            "Epoch 90/100\n",
            "2904/2904 [==============================] - 1s 499us/sample - loss: 0.4961 - acc: 0.8054 - val_loss: 0.6712 - val_acc: 0.7304\n",
            "Epoch 91/100\n",
            "2904/2904 [==============================] - 1s 502us/sample - loss: 0.4990 - acc: 0.7927 - val_loss: 0.6718 - val_acc: 0.7273\n",
            "Epoch 92/100\n",
            "2904/2904 [==============================] - 1s 509us/sample - loss: 0.4964 - acc: 0.8020 - val_loss: 0.6671 - val_acc: 0.7324\n",
            "Epoch 93/100\n",
            "2904/2904 [==============================] - 1s 487us/sample - loss: 0.5034 - acc: 0.7903 - val_loss: 0.6710 - val_acc: 0.7345\n",
            "Epoch 94/100\n",
            "2904/2904 [==============================] - 1s 492us/sample - loss: 0.4864 - acc: 0.8030 - val_loss: 0.6683 - val_acc: 0.7448\n",
            "Epoch 95/100\n",
            "2904/2904 [==============================] - 1s 482us/sample - loss: 0.4902 - acc: 0.8003 - val_loss: 0.6694 - val_acc: 0.7366\n",
            "Epoch 96/100\n",
            "2904/2904 [==============================] - 1s 484us/sample - loss: 0.4887 - acc: 0.7989 - val_loss: 0.6739 - val_acc: 0.7293\n",
            "Epoch 97/100\n",
            "2904/2904 [==============================] - 1s 486us/sample - loss: 0.4967 - acc: 0.7924 - val_loss: 0.6704 - val_acc: 0.7355\n",
            "Epoch 98/100\n",
            "2904/2904 [==============================] - 1s 469us/sample - loss: 0.4850 - acc: 0.8089 - val_loss: 0.6724 - val_acc: 0.7376\n",
            "Epoch 99/100\n",
            "2904/2904 [==============================] - 1s 480us/sample - loss: 0.4724 - acc: 0.8144 - val_loss: 0.6712 - val_acc: 0.7366\n",
            "Epoch 100/100\n",
            "2904/2904 [==============================] - 1s 481us/sample - loss: 0.4781 - acc: 0.8051 - val_loss: 0.6719 - val_acc: 0.7335\n"
          ],
          "name": "stdout"
        }
      ]
    },
    {
      "cell_type": "code",
      "metadata": {
        "id": "fppAmqGkjwnx",
        "colab": {
          "base_uri": "https://localhost:8080/",
          "height": 45
        },
        "outputId": "bd7c7ac7-a08c-41a7-88d5-ea81c3f142ab"
      },
      "source": [
        "with tf.Session() as session:\n",
        "    K.set_session(session)\n",
        "    session.run(tf.global_variables_initializer())\n",
        "    session.run(tf.tables_initializer())\n",
        "    model_sa.load_weights('best_model.h5')\n",
        "    _, train_acc = model_sa.evaluate(train_text, train_label)\n",
        "    _, test_acc = model_sa.evaluate(test_text, test_label)\n",
        "\n",
        "clear_output()\n",
        "display(Markdown('__Train Accuracy__: {}, __Test Accuracy__: {}'.format(round(train_acc,4), round(test_acc,4))))"
      ],
      "execution_count": 17,
      "outputs": [
        {
          "output_type": "display_data",
          "data": {
            "text/markdown": "__Train Accuracy__: 0.8495000004768372, __Test Accuracy__: 0.6818000078201294",
            "text/plain": [
              "<IPython.core.display.Markdown object>"
            ]
          },
          "metadata": {
            "tags": []
          }
        }
      ]
    },
    {
      "cell_type": "code",
      "metadata": {
        "id": "vn47oirQlgtM",
        "colab": {
          "base_uri": "https://localhost:8080/",
          "height": 498
        },
        "outputId": "ec1c879e-cfb9-4523-d90d-9aa8a1afa8bb"
      },
      "source": [
        "import matplotlib.pyplot as plt\n",
        "fig, (ax1, ax2) = plt.subplots(1,2)\n",
        "fig.set_size_inches(15, 8)\n",
        "ax1.set_title('Loss')\n",
        "ax1.plot(history.history['loss'], label='train')\n",
        "ax1.plot(history.history['val_loss'], label='test')\n",
        "ax1.legend()\n",
        "ax1.grid()\n",
        "\n",
        "ax2.set_title('Accuracy')\n",
        "ax2.plot(history.history['acc'], label='train')\n",
        "ax2.plot(history.history['val_acc'], label='test')\n",
        "ax2.legend()\n",
        "ax2.grid()\n",
        "plt.show()"
      ],
      "execution_count": 18,
      "outputs": [
        {
          "output_type": "display_data",
          "data": {
            "image/png": "[encoded data removed]",
            "text/plain": [
              "<Figure size 1080x576 with 2 Axes>"
            ]
          },
          "metadata": {
            "tags": [],
            "needs_background": "light"
          }
        }
      ]
    },
    {
      "cell_type": "code",
      "metadata": {
        "id": "WvpSpYuhkNLR",
        "colab": {
          "base_uri": "https://localhost:8080/",
          "height": 123
        },
        "outputId": "b9aa4072-15b5-48f5-b814-942a9b222cd9"
      },
      "source": [
        "with tf.Session() as session:\n",
        "    K.set_session(session)\n",
        "    session.run(tf.global_variables_initializer())\n",
        "    session.run(tf.tables_initializer())\n",
        "    model_sa.load_weights('best_model.h5')\n",
        "    predicts = model_sa.predict(test_text, batch_size=32)\n",
        "\n",
        "categories = train_df['sentiment'].unique().tolist()\n",
        "\n",
        "predict_logits = predicts.argmax(axis=1)\n",
        "test_df['predicted'] = [categories[i] for i in predict_logits]\n",
        "\n",
        "def highlight_rows(x):\n",
        "    if x['sentiment'] != x['predicted']:\n",
        "        return ['background-color: #d65f5f']*3\n",
        "    else:\n",
        "        return ['background-color: lightgreen']*3\n",
        "\n",
        "clear_output()\n",
        "display(test_df.head(5).style.apply(highlight_rows, axis=1))"
      ],
      "execution_count": 20,
      "outputs": [
        {
          "output_type": "display_data",
          "data": {
            "text/html": [
              "<style  type=\"text/css\" >\n",
              "#T_2ea94_row0_col0,#T_2ea94_row0_col1,#T_2ea94_row0_col2,#T_2ea94_row2_col0,#T_2ea94_row2_col1,#T_2ea94_row2_col2,#T_2ea94_row3_col0,#T_2ea94_row3_col1,#T_2ea94_row3_col2{\n",
              "            background-color:  #d65f5f;\n",
              "        }#T_2ea94_row1_col0,#T_2ea94_row1_col1,#T_2ea94_row1_col2,#T_2ea94_row4_col0,#T_2ea94_row4_col1,#T_2ea94_row4_col2{\n",
              "            background-color:  lightgreen;\n",
              "        }</style><table id=\"T_2ea94_\" ><thead>    <tr>        <th class=\"blank level0\" ></th>        <th class=\"col_heading level0 col0\" >sentiment</th>        <th class=\"col_heading level0 col1\" >text</th>        <th class=\"col_heading level0 col2\" >predicted</th>    </tr></thead><tbody>\n",
              "                <tr>\n",
              "                        <th id=\"T_2ea94_level0_row0\" class=\"row_heading level0 row0\" >3376</th>\n",
              "                        <td id=\"T_2ea94_row0_col0\" class=\"data row0 col0\" >0</td>\n",
              "                        <td id=\"T_2ea94_row0_col1\" class=\"data row0 col1\" >total number voting rights 74 612 523</td>\n",
              "                        <td id=\"T_2ea94_row0_col2\" class=\"data row0 col2\" >2</td>\n",
              "            </tr>\n",
              "            <tr>\n",
              "                        <th id=\"T_2ea94_level0_row1\" class=\"row_heading level0 row1\" >2388</th>\n",
              "                        <td id=\"T_2ea94_row1_col0\" class=\"data row1 col0\" >0</td>\n",
              "                        <td id=\"T_2ea94_row1_col1\" class=\"data row1 col1\" >according company layoffs temporary</td>\n",
              "                        <td id=\"T_2ea94_row1_col2\" class=\"data row1 col2\" >0</td>\n",
              "            </tr>\n",
              "            <tr>\n",
              "                        <th id=\"T_2ea94_level0_row2\" class=\"row_heading level0 row2\" >1700</th>\n",
              "                        <td id=\"T_2ea94_row2_col0\" class=\"data row2 col0\" >2</td>\n",
              "                        <td id=\"T_2ea94_row2_col1\" class=\"data row2 col1\" >viking line head jan kaarstroem told tt company ferries well equipped handle ice passengers safe</td>\n",
              "                        <td id=\"T_2ea94_row2_col2\" class=\"data row2 col2\" >0</td>\n",
              "            </tr>\n",
              "            <tr>\n",
              "                        <th id=\"T_2ea94_level0_row3\" class=\"row_heading level0 row3\" >3639</th>\n",
              "                        <td id=\"T_2ea94_row3_col0\" class=\"data row3 col0\" >0</td>\n",
              "                        <td id=\"T_2ea94_row3_col1\" class=\"data row3 col1\" >beginning negotiations estimated number reductions 50 maximum</td>\n",
              "                        <td id=\"T_2ea94_row3_col2\" class=\"data row3 col2\" >2</td>\n",
              "            </tr>\n",
              "            <tr>\n",
              "                        <th id=\"T_2ea94_level0_row4\" class=\"row_heading level0 row4\" >1588</th>\n",
              "                        <td id=\"T_2ea94_row4_col0\" class=\"data row4 col0\" >2</td>\n",
              "                        <td id=\"T_2ea94_row4_col1\" class=\"data row4 col1\" >renzo piano building design wonderful addition london skyline says noud veeger evp area director central north europe kone</td>\n",
              "                        <td id=\"T_2ea94_row4_col2\" class=\"data row4 col2\" >2</td>\n",
              "            </tr>\n",
              "    </tbody></table>"
            ],
            "text/plain": [
              "<pandas.io.formats.style.Styler at 0x7fa6702b0910>"
            ]
          },
          "metadata": {
            "tags": []
          }
        }
      ]
    },
    {
      "cell_type": "markdown",
      "metadata": {
        "id": "2ecIpgjB5l9z"
      },
      "source": [
        "**4.Transfer learning + Data augmentation**"
      ]
    },
    {
      "cell_type": "code",
      "metadata": {
        "id": "Zef1QeRh5kx8",
        "colab": {
          "base_uri": "https://localhost:8080/",
          "height": 636
        },
        "outputId": "653dce4d-54fb-42af-f065-8b4a7e3abc79"
      },
      "source": [
        "!pip install nlpaug==1.1.3\n",
        "!pip install textaugment"
      ],
      "execution_count": 21,
      "outputs": [
        {
          "output_type": "stream",
          "text": [
            "Requirement already satisfied: nlpaug==1.1.3 in /usr/local/lib/python3.7/dist-packages (1.1.3)\n",
            "Requirement already satisfied: textaugment in /usr/local/lib/python3.7/dist-packages (1.3.4)\n",
            "Requirement already satisfied: nltk in /usr/local/lib/python3.7/dist-packages (from textaugment) (3.2.5)\n",
            "Requirement already satisfied: numpy in /usr/local/lib/python3.7/dist-packages (from textaugment) (1.20.3)\n",
            "Requirement already satisfied: googletrans in /usr/local/lib/python3.7/dist-packages (from textaugment) (3.0.0)\n",
            "Requirement already satisfied: gensim in /usr/local/lib/python3.7/dist-packages (from textaugment) (3.6.0)\n",
            "Requirement already satisfied: textblob in /usr/local/lib/python3.7/dist-packages (from textaugment) (0.15.3)\n",
            "Requirement already satisfied: six in /usr/local/lib/python3.7/dist-packages (from nltk->textaugment) (1.16.0)\n",
            "Requirement already satisfied: httpx==0.13.3 in /usr/local/lib/python3.7/dist-packages (from googletrans->textaugment) (0.13.3)\n",
            "Requirement already satisfied: smart-open>=1.2.1 in /usr/local/lib/python3.7/dist-packages (from gensim->textaugment) (5.0.0)\n",
            "Requirement already satisfied: scipy>=0.18.1 in /usr/local/lib/python3.7/dist-packages (from gensim->textaugment) (1.6.3)\n",
            "Requirement already satisfied: hstspreload in /usr/local/lib/python3.7/dist-packages (from httpx==0.13.3->googletrans->textaugment) (2020.12.22)\n",
            "Requirement already satisfied: certifi in /usr/local/lib/python3.7/dist-packages (from httpx==0.13.3->googletrans->textaugment) (2020.12.5)\n",
            "Requirement already satisfied: rfc3986<2,>=1.3 in /usr/local/lib/python3.7/dist-packages (from httpx==0.13.3->googletrans->textaugment) (1.5.0)\n",
            "Requirement already satisfied: idna==2.* in /usr/local/lib/python3.7/dist-packages (from httpx==0.13.3->googletrans->textaugment) (2.10)\n",
            "Requirement already satisfied: sniffio in /usr/local/lib/python3.7/dist-packages (from httpx==0.13.3->googletrans->textaugment) (1.2.0)\n",
            "Requirement already satisfied: httpcore==0.9.* in /usr/local/lib/python3.7/dist-packages (from httpx==0.13.3->googletrans->textaugment) (0.9.1)\n",
            "Collecting chardet==3.*\n",
            "\u001b[?25l  Downloading https://files.pythonhosted.org/packages/bc/a9/01ffebfb562e4274b6487b4bb1ddec7ca55ec7510b22e4c51f14098443b8/chardet-3.0.4-py2.py3-none-any.whl (133kB)\n",
            "\u001b[K     |████████████████████████████████| 143kB 4.0MB/s \n",
            "\u001b[?25hRequirement already satisfied: h11<0.10,>=0.8 in /usr/local/lib/python3.7/dist-packages (from httpcore==0.9.*->httpx==0.13.3->googletrans->textaugment) (0.9.0)\n",
            "Requirement already satisfied: h2==3.* in /usr/local/lib/python3.7/dist-packages (from httpcore==0.9.*->httpx==0.13.3->googletrans->textaugment) (3.2.0)\n",
            "Requirement already satisfied: hyperframe<6,>=5.2.0 in /usr/local/lib/python3.7/dist-packages (from h2==3.*->httpcore==0.9.*->httpx==0.13.3->googletrans->textaugment) (5.2.0)\n",
            "Requirement already satisfied: hpack<4,>=3.0 in /usr/local/lib/python3.7/dist-packages (from h2==3.*->httpcore==0.9.*->httpx==0.13.3->googletrans->textaugment) (3.0.0)\n",
            "\u001b[31mERROR: google-colab 1.0.0 has requirement pandas~=1.1.0; python_version >= \"3.0\", but you'll have pandas 1.2.4 which is incompatible.\u001b[0m\n",
            "\u001b[31mERROR: google-colab 1.0.0 has requirement requests~=2.23.0, but you'll have requests 2.25.1 which is incompatible.\u001b[0m\n",
            "\u001b[31mERROR: google-colab 1.0.0 has requirement six~=1.15.0, but you'll have six 1.16.0 which is incompatible.\u001b[0m\n",
            "\u001b[31mERROR: datascience 0.10.6 has requirement folium==0.2.1, but you'll have folium 0.8.3 which is incompatible.\u001b[0m\n",
            "Installing collected packages: chardet\n",
            "  Found existing installation: chardet 4.0.0\n",
            "    Uninstalling chardet-4.0.0:\n",
            "      Successfully uninstalled chardet-4.0.0\n",
            "Successfully installed chardet-3.0.4\n"
          ],
          "name": "stdout"
        },
        {
          "output_type": "display_data",
          "data": {
            "application/vnd.colab-display-data+json": {
              "pip_warning": {
                "packages": [
                  "chardet"
                ]
              }
            }
          },
          "metadata": {
            "tags": []
          }
        }
      ]
    },
    {
      "cell_type": "code",
      "metadata": {
        "id": "k5R_wE_5Hy_C"
      },
      "source": [
        "import nlpaug.augmenter.word as naw\n",
        "import nlpaug.augmenter.char as nac\n",
        "import nlpaug.augmenter.sentence as nas"
      ],
      "execution_count": 22,
      "outputs": []
    },
    {
      "cell_type": "code",
      "metadata": {
        "colab": {
          "base_uri": "https://localhost:8080/",
          "height": 191
        },
        "id": "2oUatfyJHhQx",
        "outputId": "352e367d-980e-421b-80fe-db57c319066d"
      },
      "source": [
        "path = 'drive/MyDrive/'\n",
        "data = pd.read_csv(path+'all-data.csv', encoding='latin-1', names=['sentiment', 'text'])\n",
        "data.head()"
      ],
      "execution_count": 23,
      "outputs": [
        {
          "output_type": "execute_result",
          "data": {
            "text/html": [
              "<div>\n",
              "<style scoped>\n",
              "    .dataframe tbody tr th:only-of-type {\n",
              "        vertical-align: middle;\n",
              "    }\n",
              "\n",
              "    .dataframe tbody tr th {\n",
              "        vertical-align: top;\n",
              "    }\n",
              "\n",
              "    .dataframe thead th {\n",
              "        text-align: right;\n",
              "    }\n",
              "</style>\n",
              "<table border=\"1\" class=\"dataframe\">\n",
              "  <thead>\n",
              "    <tr style=\"text-align: right;\">\n",
              "      <th></th>\n",
              "      <th>sentiment</th>\n",
              "      <th>text</th>\n",
              "    </tr>\n",
              "  </thead>\n",
              "  <tbody>\n",
              "    <tr>\n",
              "      <th>0</th>\n",
              "      <td>neutral</td>\n",
              "      <td>According to Gran , the company has no plans t...</td>\n",
              "    </tr>\n",
              "    <tr>\n",
              "      <th>1</th>\n",
              "      <td>neutral</td>\n",
              "      <td>Technopolis plans to develop in stages an area...</td>\n",
              "    </tr>\n",
              "    <tr>\n",
              "      <th>2</th>\n",
              "      <td>negative</td>\n",
              "      <td>The international electronic industry company ...</td>\n",
              "    </tr>\n",
              "    <tr>\n",
              "      <th>3</th>\n",
              "      <td>positive</td>\n",
              "      <td>With the new production plant the company woul...</td>\n",
              "    </tr>\n",
              "    <tr>\n",
              "      <th>4</th>\n",
              "      <td>positive</td>\n",
              "      <td>According to the company 's updated strategy f...</td>\n",
              "    </tr>\n",
              "  </tbody>\n",
              "</table>\n",
              "</div>"
            ],
            "text/plain": [
              "  sentiment                                               text\n",
              "0   neutral  According to Gran , the company has no plans t...\n",
              "1   neutral  Technopolis plans to develop in stages an area...\n",
              "2  negative  The international electronic industry company ...\n",
              "3  positive  With the new production plant the company woul...\n",
              "4  positive  According to the company 's updated strategy f..."
            ]
          },
          "metadata": {
            "tags": []
          },
          "execution_count": 23
        }
      ]
    },
    {
      "cell_type": "code",
      "metadata": {
        "id": "hOiMY9DqFGmq"
      },
      "source": [
        "def aug(text):\n",
        "    aug  = naw.SynonymAug(aug_src='wordnet')\n",
        "    aug1 = naw.RandomWordAug()\n",
        "    #aug2 = nas.AbstSummAug()\n",
        "    return aug1.augment(aug.augment(text))"
      ],
      "execution_count": 24,
      "outputs": []
    },
    {
      "cell_type": "code",
      "metadata": {
        "colab": {
          "base_uri": "https://localhost:8080/"
        },
        "id": "APHW_R0qFJR-",
        "outputId": "b47904d4-a822-446a-b10b-500f4013939c"
      },
      "source": [
        "data_negative = data[data.sentiment=='negative']\n",
        "aug_neg_texys = list()\n",
        "for text in data_negative.text:    \n",
        "    for iter in range(2):\n",
        "        aug_neg_texys.append(aug(text))\n",
        "data_negative = data_negative.reset_index(drop=True)\n",
        "\n",
        "data_positive = data[data.sentiment=='positive']\n",
        "aug_pos_texys = list()\n",
        "for text in data_positive.text:    \n",
        "    for iter in range(1):\n",
        "        aug_pos_texys.append(aug(text))\n",
        "data_positive = data_positive.reset_index(drop=True)\n",
        "\n",
        "data_neutral = data[data.sentiment=='neutral']"
      ],
      "execution_count": 25,
      "outputs": [
        {
          "output_type": "stream",
          "text": [
            "[nltk_data] Downloading package wordnet to /root/nltk_data...\n",
            "[nltk_data]   Unzipping corpora/wordnet.zip.\n",
            "[nltk_data] Downloading package averaged_perceptron_tagger to\n",
            "[nltk_data]     /root/nltk_data...\n",
            "[nltk_data]   Package averaged_perceptron_tagger is already up-to-\n",
            "[nltk_data]       date!\n"
          ],
          "name": "stdout"
        }
      ]
    },
    {
      "cell_type": "code",
      "metadata": {
        "colab": {
          "base_uri": "https://localhost:8080/",
          "height": 191
        },
        "id": "8rUPktVfFx1I",
        "outputId": "746dfd20-acef-48bd-bfc1-b052fc173f88"
      },
      "source": [
        "for text in aug_pos_texys:\n",
        "    new = {'sentiment':'positive','text':text}\n",
        "    data_positive = data_positive.append(new, ignore_index=True)\n",
        "for text in aug_neg_texys:\n",
        "    new = {'sentiment':'negative','text':text}\n",
        "    data_negative = data_negative.append(new, ignore_index=True)\n",
        " \n",
        "aug_data = pd.concat([data_negative, data_positive,data_neutral])\n",
        "aug_data.head()"
      ],
      "execution_count": 26,
      "outputs": [
        {
          "output_type": "execute_result",
          "data": {
            "text/html": [
              "<div>\n",
              "<style scoped>\n",
              "    .dataframe tbody tr th:only-of-type {\n",
              "        vertical-align: middle;\n",
              "    }\n",
              "\n",
              "    .dataframe tbody tr th {\n",
              "        vertical-align: top;\n",
              "    }\n",
              "\n",
              "    .dataframe thead th {\n",
              "        text-align: right;\n",
              "    }\n",
              "</style>\n",
              "<table border=\"1\" class=\"dataframe\">\n",
              "  <thead>\n",
              "    <tr style=\"text-align: right;\">\n",
              "      <th></th>\n",
              "      <th>sentiment</th>\n",
              "      <th>text</th>\n",
              "    </tr>\n",
              "  </thead>\n",
              "  <tbody>\n",
              "    <tr>\n",
              "      <th>0</th>\n",
              "      <td>negative</td>\n",
              "      <td>The international electronic industry company ...</td>\n",
              "    </tr>\n",
              "    <tr>\n",
              "      <th>1</th>\n",
              "      <td>negative</td>\n",
              "      <td>A tinyurl link takes users to a scamming site ...</td>\n",
              "    </tr>\n",
              "    <tr>\n",
              "      <th>2</th>\n",
              "      <td>negative</td>\n",
              "      <td>Compared with the FTSE 100 index , which rose ...</td>\n",
              "    </tr>\n",
              "    <tr>\n",
              "      <th>3</th>\n",
              "      <td>negative</td>\n",
              "      <td>Compared with the FTSE 100 index , which rose ...</td>\n",
              "    </tr>\n",
              "    <tr>\n",
              "      <th>4</th>\n",
              "      <td>negative</td>\n",
              "      <td>One of the challenges in the oil production in...</td>\n",
              "    </tr>\n",
              "  </tbody>\n",
              "</table>\n",
              "</div>"
            ],
            "text/plain": [
              "  sentiment                                               text\n",
              "0  negative  The international electronic industry company ...\n",
              "1  negative  A tinyurl link takes users to a scamming site ...\n",
              "2  negative  Compared with the FTSE 100 index , which rose ...\n",
              "3  negative  Compared with the FTSE 100 index , which rose ...\n",
              "4  negative  One of the challenges in the oil production in..."
            ]
          },
          "metadata": {
            "tags": []
          },
          "execution_count": 26
        }
      ]
    },
    {
      "cell_type": "code",
      "metadata": {
        "id": "s9BpvHT6H7Xj"
      },
      "source": [
        "aug_data.sentiment = aug_data.sentiment.map(sentiment_changer)"
      ],
      "execution_count": 27,
      "outputs": []
    },
    {
      "cell_type": "code",
      "metadata": {
        "colab": {
          "base_uri": "https://localhost:8080/",
          "height": 191
        },
        "id": "Goj9KOv2NRwy",
        "outputId": "e757b038-2c21-443a-809c-6c5daf2262ea"
      },
      "source": [
        "aug_data.head()"
      ],
      "execution_count": 95,
      "outputs": [
        {
          "output_type": "execute_result",
          "data": {
            "text/html": [
              "<div>\n",
              "<style scoped>\n",
              "    .dataframe tbody tr th:only-of-type {\n",
              "        vertical-align: middle;\n",
              "    }\n",
              "\n",
              "    .dataframe tbody tr th {\n",
              "        vertical-align: top;\n",
              "    }\n",
              "\n",
              "    .dataframe thead th {\n",
              "        text-align: right;\n",
              "    }\n",
              "</style>\n",
              "<table border=\"1\" class=\"dataframe\">\n",
              "  <thead>\n",
              "    <tr style=\"text-align: right;\">\n",
              "      <th></th>\n",
              "      <th>sentiment</th>\n",
              "      <th>text</th>\n",
              "    </tr>\n",
              "  </thead>\n",
              "  <tbody>\n",
              "    <tr>\n",
              "      <th>0</th>\n",
              "      <td>1</td>\n",
              "      <td>The international electronic industry company ...</td>\n",
              "    </tr>\n",
              "    <tr>\n",
              "      <th>1</th>\n",
              "      <td>1</td>\n",
              "      <td>A tinyurl link takes users to a scamming site ...</td>\n",
              "    </tr>\n",
              "    <tr>\n",
              "      <th>2</th>\n",
              "      <td>1</td>\n",
              "      <td>Compared with the FTSE 100 index , which rose ...</td>\n",
              "    </tr>\n",
              "    <tr>\n",
              "      <th>3</th>\n",
              "      <td>1</td>\n",
              "      <td>Compared with the FTSE 100 index , which rose ...</td>\n",
              "    </tr>\n",
              "    <tr>\n",
              "      <th>4</th>\n",
              "      <td>1</td>\n",
              "      <td>One of the challenges in the oil production in...</td>\n",
              "    </tr>\n",
              "  </tbody>\n",
              "</table>\n",
              "</div>"
            ],
            "text/plain": [
              "   sentiment                                               text\n",
              "0          1  The international electronic industry company ...\n",
              "1          1  A tinyurl link takes users to a scamming site ...\n",
              "2          1  Compared with the FTSE 100 index , which rose ...\n",
              "3          1  Compared with the FTSE 100 index , which rose ...\n",
              "4          1  One of the challenges in the oil production in..."
            ]
          },
          "metadata": {
            "tags": []
          },
          "execution_count": 95
        }
      ]
    },
    {
      "cell_type": "code",
      "metadata": {
        "colab": {
          "base_uri": "https://localhost:8080/",
          "height": 191
        },
        "id": "E9Wfu1JDNE6F",
        "outputId": "d0047620-0b40-4a91-d1c4-aa7b974e86bf"
      },
      "source": [
        "aug_data = aug_data.sample(frac=1).reset_index(drop=True)\n",
        "aug_data.head()"
      ],
      "execution_count": 28,
      "outputs": [
        {
          "output_type": "execute_result",
          "data": {
            "text/html": [
              "<div>\n",
              "<style scoped>\n",
              "    .dataframe tbody tr th:only-of-type {\n",
              "        vertical-align: middle;\n",
              "    }\n",
              "\n",
              "    .dataframe tbody tr th {\n",
              "        vertical-align: top;\n",
              "    }\n",
              "\n",
              "    .dataframe thead th {\n",
              "        text-align: right;\n",
              "    }\n",
              "</style>\n",
              "<table border=\"1\" class=\"dataframe\">\n",
              "  <thead>\n",
              "    <tr style=\"text-align: right;\">\n",
              "      <th></th>\n",
              "      <th>sentiment</th>\n",
              "      <th>text</th>\n",
              "    </tr>\n",
              "  </thead>\n",
              "  <tbody>\n",
              "    <tr>\n",
              "      <th>0</th>\n",
              "      <td>0</td>\n",
              "      <td>The Filter Tips cover the volume range from 0....</td>\n",
              "    </tr>\n",
              "    <tr>\n",
              "      <th>1</th>\n",
              "      <td>2</td>\n",
              "      <td>Xerox Enso upwards to cut iGen3 to the short -...</td>\n",
              "    </tr>\n",
              "    <tr>\n",
              "      <th>2</th>\n",
              "      <td>0</td>\n",
              "      <td>The total investment necessary will be EUR40m ...</td>\n",
              "    </tr>\n",
              "    <tr>\n",
              "      <th>3</th>\n",
              "      <td>1</td>\n",
              "      <td>The production is to be liquidated before June...</td>\n",
              "    </tr>\n",
              "    <tr>\n",
              "      <th>4</th>\n",
              "      <td>0</td>\n",
              "      <td>Following the registration , the number of iss...</td>\n",
              "    </tr>\n",
              "  </tbody>\n",
              "</table>\n",
              "</div>"
            ],
            "text/plain": [
              "   sentiment                                               text\n",
              "0          0  The Filter Tips cover the volume range from 0....\n",
              "1          2  Xerox Enso upwards to cut iGen3 to the short -...\n",
              "2          0  The total investment necessary will be EUR40m ...\n",
              "3          1  The production is to be liquidated before June...\n",
              "4          0  Following the registration , the number of iss..."
            ]
          },
          "metadata": {
            "tags": []
          },
          "execution_count": 28
        }
      ]
    },
    {
      "cell_type": "code",
      "metadata": {
        "colab": {
          "base_uri": "https://localhost:8080/"
        },
        "id": "WW3YpxArF4n-",
        "outputId": "431073db-e402-4f7d-d8a6-38cb659c4be9"
      },
      "source": [
        "train_df, val_df, test_df = train_validate_test_split(aug_data)\n",
        "\n",
        "print('Train: {}, Validation: {}, Test: {}'.format(train_df.shape, val_df.shape, test_df.shape))\n",
        "\n",
        "train_text = train_df['text'].tolist()\n",
        "train_text = np.array(train_text, dtype=object)[:, np.newaxis]\n",
        "train_label = np.asarray(pd.get_dummies(train_df['sentiment']), dtype = np.int8)\n",
        "\n",
        "val_text = val_df['text'].tolist()\n",
        "val_text = np.array(val_text, dtype=object)[:, np.newaxis]\n",
        "val_label = np.asarray(pd.get_dummies(val_df['sentiment']), dtype = np.int8)\n",
        "\n",
        "test_text = test_df['text'].tolist()\n",
        "test_text = np.array(test_text, dtype=object)[:, np.newaxis]\n",
        "test_label = np.asarray(pd.get_dummies(test_df['sentiment']), dtype = np.int8)\n",
        "\n",
        "\n",
        "category_counts = 3\n",
        "input_text = layers.Input(shape=(1,), dtype=\"string\")\n",
        "embedding = layers.Lambda(UniversalEmbedding, output_shape=(embed_size,))(input_text)\n",
        "x = layers.Dense(256, activation='relu')(embedding)\n",
        "x = layers.Dropout(0.7)(x)\n",
        "x = layers.Dense(128, activation='relu')(x)\n",
        "x = layers.Dropout(0.5)(x)\n",
        "x = layers.Dense(category_counts, activation='softmax')(x)\n",
        "\n",
        "model_sa = Model(inputs=[input_text], outputs=x)\n",
        "\n",
        "# we are selecting Adam optimizer \n",
        "opt = tensorflow.keras.optimizers.Adam(learning_rate=0.0001)\n",
        "\n",
        "model_sa.compile(loss='categorical_crossentropy', optimizer=opt, metrics=['accuracy'])\n",
        "model_sa.summary()"
      ],
      "execution_count": 29,
      "outputs": [
        {
          "output_type": "stream",
          "text": [
            "Train: (4450, 2), Validation: (1483, 2), Test: (1484, 2)\n",
            "INFO:tensorflow:Saver not created because there are no variables in the graph to restore\n"
          ],
          "name": "stdout"
        },
        {
          "output_type": "stream",
          "text": [
            "INFO:tensorflow:Saver not created because there are no variables in the graph to restore\n"
          ],
          "name": "stderr"
        },
        {
          "output_type": "stream",
          "text": [
            "WARNING:tensorflow:Large dropout rate: 0.7 (>0.5). In TensorFlow 2.x, dropout() uses dropout rate instead of keep_prob. Please ensure that this is intended.\n"
          ],
          "name": "stdout"
        },
        {
          "output_type": "stream",
          "text": [
            "WARNING:tensorflow:Large dropout rate: 0.7 (>0.5). In TensorFlow 2.x, dropout() uses dropout rate instead of keep_prob. Please ensure that this is intended.\n"
          ],
          "name": "stderr"
        },
        {
          "output_type": "stream",
          "text": [
            "Model: \"model_1\"\n",
            "_________________________________________________________________\n",
            "Layer (type)                 Output Shape              Param #   \n",
            "=================================================================\n",
            "input_2 (InputLayer)         [(None, 1)]               0         \n",
            "_________________________________________________________________\n",
            "lambda_1 (Lambda)            (None, 512)               0         \n",
            "_________________________________________________________________\n",
            "dense_3 (Dense)              (None, 256)               131328    \n",
            "_________________________________________________________________\n",
            "dropout_2 (Dropout)          (None, 256)               0         \n",
            "_________________________________________________________________\n",
            "dense_4 (Dense)              (None, 128)               32896     \n",
            "_________________________________________________________________\n",
            "dropout_3 (Dropout)          (None, 128)               0         \n",
            "_________________________________________________________________\n",
            "dense_5 (Dense)              (None, 3)                 387       \n",
            "=================================================================\n",
            "Total params: 164,611\n",
            "Trainable params: 164,611\n",
            "Non-trainable params: 0\n",
            "_________________________________________________________________\n"
          ],
          "name": "stdout"
        }
      ]
    },
    {
      "cell_type": "code",
      "metadata": {
        "colab": {
          "base_uri": "https://localhost:8080/"
        },
        "id": "A-PtOhVQG_dr",
        "outputId": "5546eae9-dc74-490e-835a-33bff0d88699"
      },
      "source": [
        "with tf.Session() as session:\n",
        "    K.set_session(session)\n",
        "    session.run(tf.global_variables_initializer())\n",
        "    session.run(tf.tables_initializer())\n",
        "    history = model_sa.fit(train_text, train_label,\n",
        "                            validation_data=(val_text, val_label),\n",
        "                            epochs=100,\n",
        "                            batch_size=32,\n",
        "                            shuffle=True)\n",
        "    model_sa.save_weights('best_model.h5')"
      ],
      "execution_count": 30,
      "outputs": [
        {
          "output_type": "stream",
          "text": [
            "Train on 4450 samples, validate on 1483 samples\n",
            "Epoch 1/100\n",
            "4450/4450 [==============================] - 4s 928us/sample - loss: 1.0828 - acc: 0.3899 - val_loss: 1.0654 - val_acc: 0.4693\n",
            "Epoch 2/100\n",
            "4450/4450 [==============================] - 2s 545us/sample - loss: 1.0515 - acc: 0.4319 - val_loss: 1.0241 - val_acc: 0.4909\n",
            "Epoch 3/100\n",
            "4450/4450 [==============================] - 2s 535us/sample - loss: 1.0124 - acc: 0.4706 - val_loss: 0.9762 - val_acc: 0.5044\n",
            "Epoch 4/100\n",
            "4450/4450 [==============================] - 2s 555us/sample - loss: 0.9753 - acc: 0.4944 - val_loss: 0.9323 - val_acc: 0.5448\n",
            "Epoch 5/100\n",
            "4450/4450 [==============================] - 2s 543us/sample - loss: 0.9480 - acc: 0.5157 - val_loss: 0.9004 - val_acc: 0.5529\n",
            "Epoch 6/100\n",
            "4450/4450 [==============================] - 2s 559us/sample - loss: 0.9207 - acc: 0.5335 - val_loss: 0.8731 - val_acc: 0.5664\n",
            "Epoch 7/100\n",
            "4450/4450 [==============================] - 2s 540us/sample - loss: 0.8997 - acc: 0.5564 - val_loss: 0.8539 - val_acc: 0.5792\n",
            "Epoch 8/100\n",
            "4450/4450 [==============================] - 3s 562us/sample - loss: 0.8788 - acc: 0.5708 - val_loss: 0.8388 - val_acc: 0.5900\n",
            "Epoch 9/100\n",
            "4450/4450 [==============================] - 2s 553us/sample - loss: 0.8666 - acc: 0.5836 - val_loss: 0.8259 - val_acc: 0.6102\n",
            "Epoch 10/100\n",
            "4450/4450 [==============================] - 2s 560us/sample - loss: 0.8533 - acc: 0.5879 - val_loss: 0.8145 - val_acc: 0.6150\n",
            "Epoch 11/100\n",
            "4450/4450 [==============================] - 2s 560us/sample - loss: 0.8494 - acc: 0.5975 - val_loss: 0.8065 - val_acc: 0.6150\n",
            "Epoch 12/100\n",
            "4450/4450 [==============================] - 2s 551us/sample - loss: 0.8398 - acc: 0.6027 - val_loss: 0.8010 - val_acc: 0.6264\n",
            "Epoch 13/100\n",
            "4450/4450 [==============================] - 2s 550us/sample - loss: 0.8347 - acc: 0.6054 - val_loss: 0.7941 - val_acc: 0.6271\n",
            "Epoch 14/100\n",
            "4450/4450 [==============================] - 2s 548us/sample - loss: 0.8263 - acc: 0.6112 - val_loss: 0.7894 - val_acc: 0.6312\n",
            "Epoch 15/100\n",
            "4450/4450 [==============================] - 2s 544us/sample - loss: 0.8226 - acc: 0.6169 - val_loss: 0.7861 - val_acc: 0.6399\n",
            "Epoch 16/100\n",
            "4450/4450 [==============================] - 2s 560us/sample - loss: 0.8138 - acc: 0.6193 - val_loss: 0.7801 - val_acc: 0.6379\n",
            "Epoch 17/100\n",
            "4450/4450 [==============================] - 2s 555us/sample - loss: 0.8096 - acc: 0.6240 - val_loss: 0.7778 - val_acc: 0.6339\n",
            "Epoch 18/100\n",
            "4450/4450 [==============================] - 2s 552us/sample - loss: 0.8073 - acc: 0.6157 - val_loss: 0.7730 - val_acc: 0.6494\n",
            "Epoch 19/100\n",
            "4450/4450 [==============================] - 2s 557us/sample - loss: 0.7978 - acc: 0.6261 - val_loss: 0.7695 - val_acc: 0.6406\n",
            "Epoch 20/100\n",
            "4450/4450 [==============================] - 2s 549us/sample - loss: 0.7986 - acc: 0.6297 - val_loss: 0.7654 - val_acc: 0.6494\n",
            "Epoch 21/100\n",
            "4450/4450 [==============================] - 2s 555us/sample - loss: 0.7931 - acc: 0.6346 - val_loss: 0.7633 - val_acc: 0.6541\n",
            "Epoch 22/100\n",
            "4450/4450 [==============================] - 2s 558us/sample - loss: 0.7805 - acc: 0.6364 - val_loss: 0.7621 - val_acc: 0.6514\n",
            "Epoch 23/100\n",
            "4450/4450 [==============================] - 2s 560us/sample - loss: 0.7825 - acc: 0.6391 - val_loss: 0.7582 - val_acc: 0.6541\n",
            "Epoch 24/100\n",
            "4450/4450 [==============================] - 3s 563us/sample - loss: 0.7767 - acc: 0.6452 - val_loss: 0.7548 - val_acc: 0.6541\n",
            "Epoch 25/100\n",
            "4450/4450 [==============================] - 2s 556us/sample - loss: 0.7780 - acc: 0.6378 - val_loss: 0.7555 - val_acc: 0.6534\n",
            "Epoch 26/100\n",
            "4450/4450 [==============================] - 2s 558us/sample - loss: 0.7691 - acc: 0.6501 - val_loss: 0.7518 - val_acc: 0.6514\n",
            "Epoch 27/100\n",
            "4450/4450 [==============================] - 3s 565us/sample - loss: 0.7660 - acc: 0.6472 - val_loss: 0.7495 - val_acc: 0.6541\n",
            "Epoch 28/100\n",
            "4450/4450 [==============================] - 3s 562us/sample - loss: 0.7660 - acc: 0.6521 - val_loss: 0.7481 - val_acc: 0.6500\n",
            "Epoch 29/100\n",
            "4450/4450 [==============================] - 2s 543us/sample - loss: 0.7629 - acc: 0.6528 - val_loss: 0.7463 - val_acc: 0.6622\n",
            "Epoch 30/100\n",
            "4450/4450 [==============================] - 2s 539us/sample - loss: 0.7547 - acc: 0.6580 - val_loss: 0.7445 - val_acc: 0.6575\n",
            "Epoch 31/100\n",
            "4450/4450 [==============================] - 2s 556us/sample - loss: 0.7591 - acc: 0.6593 - val_loss: 0.7429 - val_acc: 0.6703\n",
            "Epoch 32/100\n",
            "4450/4450 [==============================] - 2s 549us/sample - loss: 0.7490 - acc: 0.6589 - val_loss: 0.7417 - val_acc: 0.6662\n",
            "Epoch 33/100\n",
            "4450/4450 [==============================] - 2s 551us/sample - loss: 0.7435 - acc: 0.6643 - val_loss: 0.7410 - val_acc: 0.6682\n",
            "Epoch 34/100\n",
            "4450/4450 [==============================] - 2s 550us/sample - loss: 0.7406 - acc: 0.6683 - val_loss: 0.7382 - val_acc: 0.6689\n",
            "Epoch 35/100\n",
            "4450/4450 [==============================] - 2s 552us/sample - loss: 0.7407 - acc: 0.6634 - val_loss: 0.7363 - val_acc: 0.6655\n",
            "Epoch 36/100\n",
            "4450/4450 [==============================] - 3s 564us/sample - loss: 0.7367 - acc: 0.6670 - val_loss: 0.7355 - val_acc: 0.6763\n",
            "Epoch 37/100\n",
            "4450/4450 [==============================] - 2s 559us/sample - loss: 0.7313 - acc: 0.6694 - val_loss: 0.7355 - val_acc: 0.6736\n",
            "Epoch 38/100\n",
            "4450/4450 [==============================] - 2s 557us/sample - loss: 0.7288 - acc: 0.6715 - val_loss: 0.7344 - val_acc: 0.6763\n",
            "Epoch 39/100\n",
            "4450/4450 [==============================] - 2s 551us/sample - loss: 0.7276 - acc: 0.6798 - val_loss: 0.7343 - val_acc: 0.6709\n",
            "Epoch 40/100\n",
            "4450/4450 [==============================] - 2s 560us/sample - loss: 0.7086 - acc: 0.6843 - val_loss: 0.7314 - val_acc: 0.6743\n",
            "Epoch 41/100\n",
            "4450/4450 [==============================] - 2s 558us/sample - loss: 0.7252 - acc: 0.6771 - val_loss: 0.7304 - val_acc: 0.6790\n",
            "Epoch 42/100\n",
            "4450/4450 [==============================] - 2s 544us/sample - loss: 0.7144 - acc: 0.6798 - val_loss: 0.7291 - val_acc: 0.6757\n",
            "Epoch 43/100\n",
            "4450/4450 [==============================] - 2s 550us/sample - loss: 0.7198 - acc: 0.6710 - val_loss: 0.7284 - val_acc: 0.6736\n",
            "Epoch 44/100\n",
            "4450/4450 [==============================] - 2s 560us/sample - loss: 0.7108 - acc: 0.6831 - val_loss: 0.7274 - val_acc: 0.6784\n",
            "Epoch 45/100\n",
            "4450/4450 [==============================] - 2s 547us/sample - loss: 0.7048 - acc: 0.6836 - val_loss: 0.7261 - val_acc: 0.6777\n",
            "Epoch 46/100\n",
            "4450/4450 [==============================] - 2s 546us/sample - loss: 0.6989 - acc: 0.6881 - val_loss: 0.7265 - val_acc: 0.6804\n",
            "Epoch 47/100\n",
            "4450/4450 [==============================] - 2s 547us/sample - loss: 0.7049 - acc: 0.6890 - val_loss: 0.7239 - val_acc: 0.6750\n",
            "Epoch 48/100\n",
            "4450/4450 [==============================] - 2s 553us/sample - loss: 0.6993 - acc: 0.6915 - val_loss: 0.7241 - val_acc: 0.6797\n",
            "Epoch 49/100\n",
            "4450/4450 [==============================] - 2s 561us/sample - loss: 0.6931 - acc: 0.6930 - val_loss: 0.7238 - val_acc: 0.6790\n",
            "Epoch 50/100\n",
            "4450/4450 [==============================] - 2s 559us/sample - loss: 0.6912 - acc: 0.6948 - val_loss: 0.7243 - val_acc: 0.6757\n",
            "Epoch 51/100\n",
            "4450/4450 [==============================] - 2s 553us/sample - loss: 0.6883 - acc: 0.7018 - val_loss: 0.7233 - val_acc: 0.6831\n",
            "Epoch 52/100\n",
            "4450/4450 [==============================] - 2s 552us/sample - loss: 0.6849 - acc: 0.6937 - val_loss: 0.7210 - val_acc: 0.6844\n",
            "Epoch 53/100\n",
            "4450/4450 [==============================] - 2s 547us/sample - loss: 0.6876 - acc: 0.6933 - val_loss: 0.7216 - val_acc: 0.6784\n",
            "Epoch 54/100\n",
            "4450/4450 [==============================] - 2s 543us/sample - loss: 0.6856 - acc: 0.7031 - val_loss: 0.7211 - val_acc: 0.6817\n",
            "Epoch 55/100\n",
            "4450/4450 [==============================] - 2s 559us/sample - loss: 0.6710 - acc: 0.7099 - val_loss: 0.7221 - val_acc: 0.6837\n",
            "Epoch 56/100\n",
            "4450/4450 [==============================] - 2s 546us/sample - loss: 0.6701 - acc: 0.7065 - val_loss: 0.7200 - val_acc: 0.6831\n",
            "Epoch 57/100\n",
            "4450/4450 [==============================] - 2s 557us/sample - loss: 0.6687 - acc: 0.7038 - val_loss: 0.7184 - val_acc: 0.6804\n",
            "Epoch 58/100\n",
            "4450/4450 [==============================] - 3s 563us/sample - loss: 0.6694 - acc: 0.7054 - val_loss: 0.7171 - val_acc: 0.6831\n",
            "Epoch 59/100\n",
            "4450/4450 [==============================] - 2s 540us/sample - loss: 0.6532 - acc: 0.7110 - val_loss: 0.7165 - val_acc: 0.6878\n",
            "Epoch 60/100\n",
            "4450/4450 [==============================] - 2s 547us/sample - loss: 0.6587 - acc: 0.7090 - val_loss: 0.7172 - val_acc: 0.6871\n",
            "Epoch 61/100\n",
            "4450/4450 [==============================] - 2s 550us/sample - loss: 0.6590 - acc: 0.7153 - val_loss: 0.7160 - val_acc: 0.6844\n",
            "Epoch 62/100\n",
            "4450/4450 [==============================] - 3s 568us/sample - loss: 0.6501 - acc: 0.7220 - val_loss: 0.7160 - val_acc: 0.6858\n",
            "Epoch 63/100\n",
            "4450/4450 [==============================] - 2s 556us/sample - loss: 0.6462 - acc: 0.7182 - val_loss: 0.7145 - val_acc: 0.6912\n",
            "Epoch 64/100\n",
            "4450/4450 [==============================] - 2s 554us/sample - loss: 0.6559 - acc: 0.7135 - val_loss: 0.7151 - val_acc: 0.6817\n",
            "Epoch 65/100\n",
            "4450/4450 [==============================] - 3s 562us/sample - loss: 0.6427 - acc: 0.7216 - val_loss: 0.7171 - val_acc: 0.6797\n",
            "Epoch 66/100\n",
            "4450/4450 [==============================] - 2s 560us/sample - loss: 0.6452 - acc: 0.7169 - val_loss: 0.7126 - val_acc: 0.6912\n",
            "Epoch 67/100\n",
            "4450/4450 [==============================] - 2s 555us/sample - loss: 0.6414 - acc: 0.7243 - val_loss: 0.7128 - val_acc: 0.6871\n",
            "Epoch 68/100\n",
            "4450/4450 [==============================] - 2s 560us/sample - loss: 0.6318 - acc: 0.7299 - val_loss: 0.7125 - val_acc: 0.6844\n",
            "Epoch 69/100\n",
            "4450/4450 [==============================] - 2s 546us/sample - loss: 0.6271 - acc: 0.7256 - val_loss: 0.7124 - val_acc: 0.6858\n",
            "Epoch 70/100\n",
            "4450/4450 [==============================] - 3s 568us/sample - loss: 0.6289 - acc: 0.7328 - val_loss: 0.7100 - val_acc: 0.6871\n",
            "Epoch 71/100\n",
            "4450/4450 [==============================] - 2s 547us/sample - loss: 0.6245 - acc: 0.7353 - val_loss: 0.7116 - val_acc: 0.6878\n",
            "Epoch 72/100\n",
            "4450/4450 [==============================] - 2s 554us/sample - loss: 0.6274 - acc: 0.7344 - val_loss: 0.7100 - val_acc: 0.6885\n",
            "Epoch 73/100\n",
            "4450/4450 [==============================] - 2s 545us/sample - loss: 0.6221 - acc: 0.7337 - val_loss: 0.7103 - val_acc: 0.6864\n",
            "Epoch 74/100\n",
            "4450/4450 [==============================] - 2s 519us/sample - loss: 0.6131 - acc: 0.7346 - val_loss: 0.7119 - val_acc: 0.6898\n",
            "Epoch 75/100\n",
            "4450/4450 [==============================] - 2s 527us/sample - loss: 0.6115 - acc: 0.7391 - val_loss: 0.7136 - val_acc: 0.6885\n",
            "Epoch 76/100\n",
            "4450/4450 [==============================] - 2s 528us/sample - loss: 0.6057 - acc: 0.7400 - val_loss: 0.7101 - val_acc: 0.6885\n",
            "Epoch 77/100\n",
            "4450/4450 [==============================] - 2s 532us/sample - loss: 0.6049 - acc: 0.7353 - val_loss: 0.7093 - val_acc: 0.6878\n",
            "Epoch 78/100\n",
            "4450/4450 [==============================] - 2s 521us/sample - loss: 0.6095 - acc: 0.7371 - val_loss: 0.7094 - val_acc: 0.6912\n",
            "Epoch 79/100\n",
            "4450/4450 [==============================] - 2s 523us/sample - loss: 0.6041 - acc: 0.7404 - val_loss: 0.7099 - val_acc: 0.6925\n",
            "Epoch 80/100\n",
            "4450/4450 [==============================] - 2s 513us/sample - loss: 0.5954 - acc: 0.7521 - val_loss: 0.7092 - val_acc: 0.6905\n",
            "Epoch 81/100\n",
            "4450/4450 [==============================] - 2s 517us/sample - loss: 0.5913 - acc: 0.7434 - val_loss: 0.7085 - val_acc: 0.6898\n",
            "Epoch 82/100\n",
            "4450/4450 [==============================] - 2s 522us/sample - loss: 0.5946 - acc: 0.7501 - val_loss: 0.7070 - val_acc: 0.6918\n",
            "Epoch 83/100\n",
            "4450/4450 [==============================] - 2s 513us/sample - loss: 0.5912 - acc: 0.7371 - val_loss: 0.7095 - val_acc: 0.6912\n",
            "Epoch 84/100\n",
            "4450/4450 [==============================] - 2s 507us/sample - loss: 0.5945 - acc: 0.7488 - val_loss: 0.7087 - val_acc: 0.6939\n",
            "Epoch 85/100\n",
            "4450/4450 [==============================] - 2s 508us/sample - loss: 0.5857 - acc: 0.7467 - val_loss: 0.7086 - val_acc: 0.6966\n",
            "Epoch 86/100\n",
            "4450/4450 [==============================] - 2s 527us/sample - loss: 0.5850 - acc: 0.7501 - val_loss: 0.7068 - val_acc: 0.6891\n",
            "Epoch 87/100\n",
            "4450/4450 [==============================] - 2s 524us/sample - loss: 0.5749 - acc: 0.7627 - val_loss: 0.7147 - val_acc: 0.6864\n",
            "Epoch 88/100\n",
            "4450/4450 [==============================] - 2s 513us/sample - loss: 0.5777 - acc: 0.7535 - val_loss: 0.7072 - val_acc: 0.6952\n",
            "Epoch 89/100\n",
            "4450/4450 [==============================] - 2s 541us/sample - loss: 0.5636 - acc: 0.7609 - val_loss: 0.7088 - val_acc: 0.6939\n",
            "Epoch 90/100\n",
            "4450/4450 [==============================] - 2s 539us/sample - loss: 0.5663 - acc: 0.7573 - val_loss: 0.7090 - val_acc: 0.6979\n",
            "Epoch 91/100\n",
            "4450/4450 [==============================] - 2s 538us/sample - loss: 0.5596 - acc: 0.7658 - val_loss: 0.7100 - val_acc: 0.6986\n",
            "Epoch 92/100\n",
            "4450/4450 [==============================] - 2s 536us/sample - loss: 0.5542 - acc: 0.7692 - val_loss: 0.7113 - val_acc: 0.6898\n",
            "Epoch 93/100\n",
            "4450/4450 [==============================] - 2s 527us/sample - loss: 0.5564 - acc: 0.7697 - val_loss: 0.7097 - val_acc: 0.6952\n",
            "Epoch 94/100\n",
            "4450/4450 [==============================] - 2s 515us/sample - loss: 0.5526 - acc: 0.7593 - val_loss: 0.7088 - val_acc: 0.6925\n",
            "Epoch 95/100\n",
            "4450/4450 [==============================] - 2s 519us/sample - loss: 0.5509 - acc: 0.7717 - val_loss: 0.7064 - val_acc: 0.6932\n",
            "Epoch 96/100\n",
            "4450/4450 [==============================] - 2s 529us/sample - loss: 0.5502 - acc: 0.7710 - val_loss: 0.7071 - val_acc: 0.6939\n",
            "Epoch 97/100\n",
            "4450/4450 [==============================] - 2s 538us/sample - loss: 0.5439 - acc: 0.7719 - val_loss: 0.7107 - val_acc: 0.6898\n",
            "Epoch 98/100\n",
            "4450/4450 [==============================] - 2s 527us/sample - loss: 0.5418 - acc: 0.7710 - val_loss: 0.7104 - val_acc: 0.6898\n",
            "Epoch 99/100\n",
            "4450/4450 [==============================] - 2s 535us/sample - loss: 0.5392 - acc: 0.7739 - val_loss: 0.7104 - val_acc: 0.6905\n",
            "Epoch 100/100\n",
            "4450/4450 [==============================] - 2s 521us/sample - loss: 0.5283 - acc: 0.7784 - val_loss: 0.7130 - val_acc: 0.6871\n"
          ],
          "name": "stdout"
        }
      ]
    },
    {
      "cell_type": "code",
      "metadata": {
        "colab": {
          "base_uri": "https://localhost:8080/",
          "height": 45
        },
        "id": "0ST8qn4UHBnN",
        "outputId": "1f44731f-ee8e-448d-bc57-9bd1fc072ae3"
      },
      "source": [
        "# load the saved model\n",
        "with tf.Session() as session:\n",
        "    K.set_session(session)\n",
        "    session.run(tf.global_variables_initializer())\n",
        "    session.run(tf.tables_initializer())\n",
        "    model_sa.load_weights('best_model.h5')\n",
        "    _, train_acc = model_sa.evaluate(train_text, train_label)\n",
        "    _, test_acc = model_sa.evaluate(test_text, test_label)\n",
        "\n",
        "clear_output()\n",
        "display(Markdown('__Train Accuracy__: {}, __Test Accuracy__: {}'.format(round(train_acc,4), round(test_acc,4))))"
      ],
      "execution_count": 31,
      "outputs": [
        {
          "output_type": "display_data",
          "data": {
            "text/markdown": "__Train Accuracy__: 0.8391000032424927, __Test Accuracy__: 0.6899999976158142",
            "text/plain": [
              "<IPython.core.display.Markdown object>"
            ]
          },
          "metadata": {
            "tags": []
          }
        }
      ]
    },
    {
      "cell_type": "markdown",
      "metadata": {
        "id": "diMgPo7VinsC"
      },
      "source": [
        " Transfer learning for sentiment analysis can be hard given that knowledge learned from one topic may not be not broad or general enough to perform well on the target or downstream tasks."
      ]
    },
    {
      "cell_type": "code",
      "metadata": {
        "id": "LO9uRu3XMWdl"
      },
      "source": [
        "models = ['KNN','CART','RF','NN ','NN + data augmentation','combined models','transfer learning','transfer learning + data augmentation']\n",
        "acc = [63,65,73,72,95,66,71,74]"
      ],
      "execution_count": 71,
      "outputs": []
    },
    {
      "cell_type": "code",
      "metadata": {
        "colab": {
          "base_uri": "https://localhost:8080/",
          "height": 620
        },
        "id": "WLsCD5HnVlQw",
        "outputId": "14b89d43-5a49-47a9-bf2e-2f802e00ac83"
      },
      "source": [
        "table = pd.DataFrame([acc], columns=models)\n",
        "plt.figure()\n",
        "table.plot(kind='bar', edgecolor='white', linewidth=5,figsize=(10,10))\n",
        "plt.axhline(0, color=\"k\")\n",
        "plt.ylabel(\"Prediction accuracy\")"
      ],
      "execution_count": 89,
      "outputs": [
        {
          "output_type": "execute_result",
          "data": {
            "text/plain": [
              "Text(0, 0.5, 'Prediction accuracy')"
            ]
          },
          "metadata": {
            "tags": []
          },
          "execution_count": 89
        },
        {
          "output_type": "display_data",
          "data": {
            "text/plain": [
              "<Figure size 432x288 with 0 Axes>"
            ]
          },
          "metadata": {
            "tags": []
          }
        },
        {
          "output_type": "display_data",
          "data": {
            "image/png": "[encoded data removed]",
            "text/plain": [
              "<Figure size 720x720 with 1 Axes>"
            ]
          },
          "metadata": {
            "tags": [],
            "needs_background": "light"
          }
        }
      ]
    }
  ]
}