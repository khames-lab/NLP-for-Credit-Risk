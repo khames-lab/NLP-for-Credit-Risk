{
 "cells": [
  {
   "cell_type": "markdown",
   "id": "7dd35a5d",
   "metadata": {},
   "source": [
    "#### The following summarization algorithm is based on:\n",
    "- Computing word frequencies for non stop words before normalizing by the maximum word frequency.\n",
    "- For each sentence, we compute the sum of its normalized word frequencies as a score.\n",
    "- The output would be the k sentences with the maximum k scores (k equals to 1 in our case).The following ex"
   ]
  },
  {
   "cell_type": "code",
   "execution_count": 1,
   "id": "ddefff0a",
   "metadata": {},
   "outputs": [],
   "source": [
    "import spacy\n",
    "from spacy.lang.en.stop_words import STOP_WORDS\n",
    "from string import punctuation\n",
    "import base64\n",
    "from heapq import nlargest\n",
    "nlp = spacy.load(\"en_core_web_sm\")\n",
    "stopwords=list(STOP_WORDS)\n",
    "punctuation=punctuation+ '\\n'"
   ]
  },
  {
   "cell_type": "code",
   "execution_count": 2,
   "id": "cd3bb90f",
   "metadata": {},
   "outputs": [],
   "source": [
    "def summary(text):\n",
    "    doc = nlp(text)\n",
    "    tokens=[token.text for token in doc]\n",
    "    word_frequencies={}\n",
    "    for word in doc:\n",
    "        if word.text.lower() not in stopwords:\n",
    "            if word.text.lower() not in punctuation:\n",
    "                if word.text not in word_frequencies.keys():\n",
    "                    word_frequencies[word.text] = 1\n",
    "                else:\n",
    "                    word_frequencies[word.text] += 1\n",
    "    max_frequency=max(word_frequencies.values())\n",
    "    for word in word_frequencies.keys():\n",
    "        word_frequencies[word]=word_frequencies[word]/max_frequency\n",
    "    sentence_tokens= [sent for sent in doc.sents]\n",
    "    sentence_scores = {}\n",
    "    for sent in sentence_tokens:\n",
    "        for word in sent:\n",
    "            if word.text.lower() in word_frequencies.keys():\n",
    "                if sent not in sentence_scores.keys():                           \n",
    "                    sentence_scores[sent]=word_frequencies[word.text.lower()]\n",
    "                else:\n",
    "                    sentence_scores[sent]+=word_frequencies[word.text.lower()]   \n",
    "    select_length=1\n",
    "    summary=nlargest(select_length, sentence_scores,key=sentence_scores.get)\n",
    "    final_summary=[word.text for word in summary]\n",
    "    if len(summary)==0:\n",
    "            return text\n",
    "\n",
    "    return(''.join(final_summary))"
   ]
  },
  {
   "cell_type": "code",
   "execution_count": 3,
   "id": "57988c25",
   "metadata": {},
   "outputs": [],
   "source": [
    "text = \"\"\"Machine translation, sometimes referred to by the abbreviation MT, is a sub-field of computational linguistics that investigates the use of software to translate text or speech from one language to another.- Wikipedia. Google’s language translator is a good example that uses neural machine translation to translate text in one language to every possible language!\"\"\""
   ]
  },
  {
   "cell_type": "code",
   "execution_count": 4,
   "id": "5f54afbb",
   "metadata": {},
   "outputs": [
    {
     "data": {
      "text/plain": [
       "'Machine translation, sometimes referred to by the abbreviation MT, is a sub-field of computational linguistics that investigates the use of software to translate text or speech from one language to another.- Wikipedia. Google’s language translator is a good example that uses neural machine translation to translate text in one language to every possible language!'"
      ]
     },
     "execution_count": 4,
     "metadata": {},
     "output_type": "execute_result"
    }
   ],
   "source": [
    "text"
   ]
  },
  {
   "cell_type": "code",
   "execution_count": 5,
   "id": "ea407f2d",
   "metadata": {},
   "outputs": [
    {
     "data": {
      "text/plain": [
       "'Google’s language translator is a good example that uses neural machine translation to translate text in one language to every possible language!'"
      ]
     },
     "execution_count": 5,
     "metadata": {},
     "output_type": "execute_result"
    }
   ],
   "source": [
    "summary(text)"
   ]
  }
 ],
 "metadata": {
  "kernelspec": {
   "display_name": "Python 3",
   "language": "python",
   "name": "python3"
  },
  "language_info": {
   "codemirror_mode": {
    "name": "ipython",
    "version": 3
   },
   "file_extension": ".py",
   "mimetype": "text/x-python",
   "name": "python",
   "nbconvert_exporter": "python",
   "pygments_lexer": "ipython3",
   "version": "3.9.5"
  }
 },
 "nbformat": 4,
 "nbformat_minor": 5
}
